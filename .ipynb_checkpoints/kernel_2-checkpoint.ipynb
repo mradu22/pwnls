{
 "cells": [
  {
   "cell_type": "markdown",
   "metadata": {
    "_uuid": "e154a47bf09b8770980486e87786317a1b3038e1"
   },
   "source": [
    "This notebook was made from scratch by me.  \n",
    "The idea is reducing the 800,000 long mesurements to some shorter vector that is more fitted to a LSTM.  \n",
    "This code below transform the 800.000 mesurements of the 3 diferent phases in a unique (80, 39) matrix.  \n",
    "The matthews ocrrelation and attention functions are not mine.  "
   ]
  },
  {
   "cell_type": "code",
   "execution_count": 5,
   "metadata": {
    "_cell_guid": "b1076dfc-b9ad-4769-8c92-a6c4dae69d19",
    "_uuid": "8f2839f25d086af736a60e9eeb907d3b93b6e0e5"
   },
   "outputs": [
    {
     "name": "stdout",
     "output_type": "stream",
     "text": [
      "['train.parquet', 'test.parquet', 'metadata_train.csv', 'metadata_test.csv', 'sample_submission.csv']\n"
     ]
    }
   ],
   "source": [
    "import pandas as pd\n",
    "import pyarrow.parquet as pq\n",
    "import os\n",
    "import numpy as np\n",
    "from keras.layers import *\n",
    "from keras.models import Model\n",
    "from tqdm import tqdm\n",
    "from sklearn.model_selection import train_test_split\n",
    "from keras.callbacks import ModelCheckpoint\n",
    "from keras import backend as K\n",
    "print(os.listdir(\"input/\"))"
   ]
  },
  {
   "cell_type": "code",
   "execution_count": 6,
   "metadata": {
    "_uuid": "c3340ee96becb5ca8f075d9c44b7df383ddba5ee"
   },
   "outputs": [],
   "source": [
    "def matthews_correlation(y_true, y_pred):\n",
    "    '''Calculates the Matthews correlation coefficient measure for quality\n",
    "    of binary classification problems.\n",
    "    '''\n",
    "    y_pred_pos = K.round(K.clip(y_pred, 0, 1))\n",
    "    y_pred_neg = 1 - y_pred_pos\n",
    "\n",
    "    y_pos = K.round(K.clip(y_true, 0, 1))\n",
    "    y_neg = 1 - y_pos\n",
    "\n",
    "    tp = K.sum(y_pos * y_pred_pos)\n",
    "    tn = K.sum(y_neg * y_pred_neg)\n",
    "\n",
    "    fp = K.sum(y_neg * y_pred_pos)\n",
    "    fn = K.sum(y_pos * y_pred_neg)\n",
    "\n",
    "    numerator = (tp * tn - fp * fn)\n",
    "    denominator = K.sqrt((tp + fp) * (tp + fn) * (tn + fp) * (tn + fn))\n",
    "\n",
    "    return numerator / (denominator + K.epsilon())"
   ]
  },
  {
   "cell_type": "code",
   "execution_count": 7,
   "metadata": {
    "_uuid": "eda7ea366117d1ce8e5fce69e5bba333821d8b48"
   },
   "outputs": [],
   "source": [
    "# https://www.kaggle.com/suicaokhoailang/lstm-attention-baseline-0-652-lb\n",
    "\n",
    "class Attention(Layer):\n",
    "    def __init__(self, step_dim,\n",
    "                 W_regularizer=None, b_regularizer=None,\n",
    "                 W_constraint=None, b_constraint=None,\n",
    "                 bias=True, **kwargs):\n",
    "        self.supports_masking = True\n",
    "        self.init = initializers.get('glorot_uniform')\n",
    "\n",
    "        self.W_regularizer = regularizers.get(W_regularizer)\n",
    "        self.b_regularizer = regularizers.get(b_regularizer)\n",
    "\n",
    "        self.W_constraint = constraints.get(W_constraint)\n",
    "        self.b_constraint = constraints.get(b_constraint)\n",
    "\n",
    "        self.bias = bias\n",
    "        self.step_dim = step_dim\n",
    "        self.features_dim = 0\n",
    "        super(Attention, self).__init__(**kwargs)\n",
    "\n",
    "    def build(self, input_shape):\n",
    "        assert len(input_shape) == 3\n",
    "\n",
    "        self.W = self.add_weight((input_shape[-1],),\n",
    "                                 initializer=self.init,\n",
    "                                 name='{}_W'.format(self.name),\n",
    "                                 regularizer=self.W_regularizer,\n",
    "                                 constraint=self.W_constraint)\n",
    "        self.features_dim = input_shape[-1]\n",
    "\n",
    "        if self.bias:\n",
    "            self.b = self.add_weight((input_shape[1],),\n",
    "                                     initializer='zero',\n",
    "                                     name='{}_b'.format(self.name),\n",
    "                                     regularizer=self.b_regularizer,\n",
    "                                     constraint=self.b_constraint)\n",
    "        else:\n",
    "            self.b = None\n",
    "\n",
    "        self.built = True\n",
    "\n",
    "    def compute_mask(self, input, input_mask=None):\n",
    "        return None\n",
    "\n",
    "    def call(self, x, mask=None):\n",
    "        features_dim = self.features_dim\n",
    "        step_dim = self.step_dim\n",
    "\n",
    "        eij = K.reshape(K.dot(K.reshape(x, (-1, features_dim)),\n",
    "                        K.reshape(self.W, (features_dim, 1))), (-1, step_dim))\n",
    "\n",
    "        if self.bias:\n",
    "            eij += self.b\n",
    "\n",
    "        eij = K.tanh(eij)\n",
    "\n",
    "        a = K.exp(eij)\n",
    "\n",
    "        if mask is not None:\n",
    "            a *= K.cast(mask, K.floatx())\n",
    "\n",
    "        a /= K.cast(K.sum(a, axis=1, keepdims=True) + K.epsilon(), K.floatx())\n",
    "\n",
    "        a = K.expand_dims(a)\n",
    "        weighted_input = x * a\n",
    "        return K.sum(weighted_input, axis=1)\n",
    "\n",
    "    def compute_output_shape(self, input_shape):\n",
    "        return input_shape[0],  self.features_dim"
   ]
  },
  {
   "cell_type": "code",
   "execution_count": 8,
   "metadata": {
    "_cell_guid": "79c7e3d0-c299-4dcb-8224-4455121ee9b0",
    "_uuid": "d629ff2d2480ee46fbb7e2d37f6b5fab8052498a"
   },
   "outputs": [
    {
     "data": {
      "text/html": [
       "<div>\n",
       "<style scoped>\n",
       "    .dataframe tbody tr th:only-of-type {\n",
       "        vertical-align: middle;\n",
       "    }\n",
       "\n",
       "    .dataframe tbody tr th {\n",
       "        vertical-align: top;\n",
       "    }\n",
       "\n",
       "    .dataframe thead th {\n",
       "        text-align: right;\n",
       "    }\n",
       "</style>\n",
       "<table border=\"1\" class=\"dataframe\">\n",
       "  <thead>\n",
       "    <tr style=\"text-align: right;\">\n",
       "      <th></th>\n",
       "      <th></th>\n",
       "      <th>signal_id</th>\n",
       "      <th>target</th>\n",
       "    </tr>\n",
       "    <tr>\n",
       "      <th>id_measurement</th>\n",
       "      <th>phase</th>\n",
       "      <th></th>\n",
       "      <th></th>\n",
       "    </tr>\n",
       "  </thead>\n",
       "  <tbody>\n",
       "    <tr>\n",
       "      <th rowspan=\"3\" valign=\"top\">0</th>\n",
       "      <th>0</th>\n",
       "      <td>0</td>\n",
       "      <td>0</td>\n",
       "    </tr>\n",
       "    <tr>\n",
       "      <th>1</th>\n",
       "      <td>1</td>\n",
       "      <td>0</td>\n",
       "    </tr>\n",
       "    <tr>\n",
       "      <th>2</th>\n",
       "      <td>2</td>\n",
       "      <td>0</td>\n",
       "    </tr>\n",
       "    <tr>\n",
       "      <th rowspan=\"2\" valign=\"top\">1</th>\n",
       "      <th>0</th>\n",
       "      <td>3</td>\n",
       "      <td>1</td>\n",
       "    </tr>\n",
       "    <tr>\n",
       "      <th>1</th>\n",
       "      <td>4</td>\n",
       "      <td>1</td>\n",
       "    </tr>\n",
       "  </tbody>\n",
       "</table>\n",
       "</div>"
      ],
      "text/plain": [
       "                      signal_id  target\n",
       "id_measurement phase                   \n",
       "0              0              0       0\n",
       "               1              1       0\n",
       "               2              2       0\n",
       "1              0              3       1\n",
       "               1              4       1"
      ]
     },
     "execution_count": 8,
     "metadata": {},
     "output_type": "execute_result"
    }
   ],
   "source": [
    "df_train = pd.read_csv('input/metadata_train.csv')\n",
    "df_train = df_train.set_index(['id_measurement', 'phase'])\n",
    "df_train.head()"
   ]
  },
  {
   "cell_type": "code",
   "execution_count": 9,
   "metadata": {
    "_uuid": "26df6c7fbfecd537404866faec13d1238ae3ebc6"
   },
   "outputs": [],
   "source": [
    "max_num = 127\n",
    "min_num = -128"
   ]
  },
  {
   "cell_type": "code",
   "execution_count": 10,
   "metadata": {
    "_uuid": "7b0717b14bcfcba1f48d33c8161ae51c778687af"
   },
   "outputs": [],
   "source": [
    "def min_max_transf(ts, min_data, max_data, range_needed=(-1,1)):\n",
    "    if min_data < 0:\n",
    "        ts_std = (ts + abs(min_data)) / (max_data + abs(min_data))\n",
    "    else:\n",
    "        ts_std = (ts - min_data) / (max_data - min_data)\n",
    "    if range_needed[0] < 0:    \n",
    "        return ts_std * (range_needed[1] + abs(range_needed[0])) + range_needed[0]\n",
    "    else:\n",
    "        return ts_std * (range_needed[1] - range_needed[0]) + range_needed[0]"
   ]
  },
  {
   "cell_type": "code",
   "execution_count": null,
   "metadata": {},
   "outputs": [],
   "source": [
    "min_max"
   ]
  },
  {
   "cell_type": "code",
   "execution_count": 11,
   "metadata": {
    "_uuid": "c6137bbbe75c3a1509a5f98e08805dbbd492aa37"
   },
   "outputs": [],
   "source": [
    "def transform_ts(ts, n_dim=160, min_max=(-1,1)):\n",
    "    ts_std = min_max_transf(ts, min_data=min_num, max_data=max_num)\n",
    "    sample_size = 800000\n",
    "    bucket_size = int(sample_size / n_dim)\n",
    "    new_ts = []\n",
    "    for i in range(0, sample_size, bucket_size):\n",
    "        ts_range = ts_std[i:i + bucket_size]\n",
    "        mean = ts_range.mean()\n",
    "        std = ts_range.std()\n",
    "        std_top = mean + std\n",
    "        std_bot = mean - std\n",
    "        percentil_calc = np.percentile(ts_range, [0, 1, 25, 50, 75, 99, 100])\n",
    "        max_range = percentil_calc[-1] - percentil_calc[0]\n",
    "        covar = std / mean\n",
    "        asymmetry = mean - percentil_calc[4]\n",
    "        new_ts.append(np.concatenate([np.asarray([mean, std_top, std_bot, max_range, covar, asymmetry]),percentil_calc]))\n",
    "    return np.asarray(new_ts)"
   ]
  },
  {
   "cell_type": "code",
   "execution_count": 14,
   "metadata": {
    "_uuid": "7460e718a605803f1d9e4fbec61750a0deb02a47"
   },
   "outputs": [],
   "source": [
    "def prep_data(start, end):\n",
    "    #praq_train = pq.read_pandas('../input/train.parquet').to_pandas()\n",
    "    praq_train = pq.read_pandas('input/train.parquet', columns=[str(i) for i in range(start, end)]).to_pandas()\n",
    "    X = []\n",
    "    y = []\n",
    "    #for id_measurement in tqdm(df_train.index.levels[0].unique()):\n",
    "    for id_measurement in df_train.index.levels[0].unique()[int(start/3):int(end/3)]:\n",
    "        X_signal = []\n",
    "        for phase in [0,1,2]:\n",
    "            signal_id, target = df_train.loc[id_measurement].loc[phase]\n",
    "            if phase == 0:\n",
    "                y.append(target)\n",
    "            X_signal.append(transform_ts(praq_train[str(signal_id)]))\n",
    "        X_signal = np.concatenate(X_signal, axis=1)\n",
    "        X.append(X_signal)\n",
    "    X = np.asarray(X)\n",
    "    y = np.asarray(y)\n",
    "    return X, y"
   ]
  },
  {
   "cell_type": "code",
   "execution_count": 15,
   "metadata": {
    "_uuid": "52dc826ab9ee1dd56c9fb29bd5c1b2d26b5928bf"
   },
   "outputs": [],
   "source": [
    "X = []\n",
    "y = []\n",
    "def load_all():\n",
    "    total_size = len(df_train)\n",
    "    for ini, end in [(0, int(total_size/2)), (int(total_size/2), total_size)]:\n",
    "        X_temp, y_temp = prep_data(ini, end)\n",
    "        X.append(X_temp)\n",
    "        y.append(y_temp)\n",
    "load_all()\n",
    "X = np.concatenate(X)\n",
    "y = np.concatenate(y)"
   ]
  },
  {
   "cell_type": "code",
   "execution_count": 24,
   "metadata": {
    "_uuid": "51ad0e25b00536de6170168499923d82ae1d735f"
   },
   "outputs": [
    {
     "name": "stdout",
     "output_type": "stream",
     "text": [
      "(2904, 160, 39) (2904,)\n"
     ]
    }
   ],
   "source": [
    "print(X.shape, y.shape)"
   ]
  },
  {
   "cell_type": "code",
   "execution_count": 25,
   "metadata": {},
   "outputs": [
    {
     "data": {
      "text/plain": [
       "(2904, 160, 39)"
      ]
     },
     "execution_count": 25,
     "metadata": {},
     "output_type": "execute_result"
    }
   ],
   "source": [
    "X.shape"
   ]
  },
  {
   "cell_type": "code",
   "execution_count": 26,
   "metadata": {
    "_uuid": "dccd48fbd469c955284abd86776e8435dc706bd6"
   },
   "outputs": [],
   "source": [
    "X_train, X_valid, y_train, y_valid = train_test_split(X, y, test_size=0.2)"
   ]
  },
  {
   "cell_type": "code",
   "execution_count": 34,
   "metadata": {},
   "outputs": [],
   "source": [
    "\n",
    "K.clear_session()"
   ]
  },
  {
   "cell_type": "code",
   "execution_count": 35,
   "metadata": {
    "_uuid": "289bc7d1ab8048a60025801b457f8df1d848acbc"
   },
   "outputs": [],
   "source": [
    "def model_lstm(input_shape):\n",
    "    inp = Input(shape=(input_shape[1], input_shape[2],))\n",
    "    x = Bidirectional(LSTM(128, return_sequences=True))(inp)\n",
    "    x = Bidirectional(LSTM(64, return_sequences=True))(x)\n",
    "    x = Attention(input_shape[1])(x)\n",
    "    x = Dense(64, activation=\"relu\")(x)\n",
    "    x = Dense(1, activation=\"sigmoid\")(x)\n",
    "    model = Model(inputs=inp, outputs=x)\n",
    "    model.compile(loss='binary_crossentropy', optimizer='adam', metrics=[matthews_correlation])\n",
    "    \n",
    "    return model"
   ]
  },
  {
   "cell_type": "code",
   "execution_count": 36,
   "metadata": {
    "_uuid": "59621793c58cd4771823cb6cedc6dd959473f53d"
   },
   "outputs": [
    {
     "name": "stdout",
     "output_type": "stream",
     "text": [
      "['loss', 'matthews_correlation']\n",
      "_________________________________________________________________\n",
      "Layer (type)                 Output Shape              Param #   \n",
      "=================================================================\n",
      "input_1 (InputLayer)         (None, 160, 39)           0         \n",
      "_________________________________________________________________\n",
      "bidirectional_1 (Bidirection (None, 160, 256)          172032    \n",
      "_________________________________________________________________\n",
      "bidirectional_2 (Bidirection (None, 160, 128)          164352    \n",
      "_________________________________________________________________\n",
      "attention_1 (Attention)      (None, 128)               288       \n",
      "_________________________________________________________________\n",
      "dense_1 (Dense)              (None, 64)                8256      \n",
      "_________________________________________________________________\n",
      "dense_2 (Dense)              (None, 1)                 65        \n",
      "=================================================================\n",
      "Total params: 344,993\n",
      "Trainable params: 344,993\n",
      "Non-trainable params: 0\n",
      "_________________________________________________________________\n"
     ]
    }
   ],
   "source": [
    "model = model_lstm(X_train.shape)\n",
    "print(model.metrics_names)\n",
    "model.summary()"
   ]
  },
  {
   "cell_type": "code",
   "execution_count": 37,
   "metadata": {
    "_uuid": "8d6f4ca319c383b1b4f671a37c5a324136e7a466",
    "scrolled": true
   },
   "outputs": [
    {
     "name": "stdout",
     "output_type": "stream",
     "text": [
      "Train on 2323 samples, validate on 581 samples\n",
      "Epoch 1/100\n",
      "2323/2323 [==============================] - 26s 11ms/step - loss: 0.3672 - matthews_correlation: 0.0020 - val_loss: 0.2698 - val_matthews_correlation: 0.0000e+00\n",
      "\n",
      "Epoch 00001: val_matthews_correlation improved from -inf to 0.00000, saving model to weights.h5\n",
      "Epoch 2/100\n",
      "2323/2323 [==============================] - 25s 11ms/step - loss: 0.2206 - matthews_correlation: 0.0000e+00 - val_loss: 0.2867 - val_matthews_correlation: 0.0000e+00\n",
      "\n",
      "Epoch 00002: val_matthews_correlation did not improve from 0.00000\n",
      "Epoch 3/100\n",
      "2323/2323 [==============================] - 24s 10ms/step - loss: 0.2175 - matthews_correlation: 0.0000e+00 - val_loss: 0.2365 - val_matthews_correlation: 0.0000e+00\n",
      "\n",
      "Epoch 00003: val_matthews_correlation did not improve from 0.00000\n",
      "Epoch 4/100\n",
      "2323/2323 [==============================] - 21s 9ms/step - loss: 0.2011 - matthews_correlation: -9.9256e-04 - val_loss: 0.2186 - val_matthews_correlation: 0.3201\n",
      "\n",
      "Epoch 00004: val_matthews_correlation improved from 0.00000 to 0.32013, saving model to weights.h5\n",
      "Epoch 5/100\n",
      "2323/2323 [==============================] - 21s 9ms/step - loss: 0.2083 - matthews_correlation: 0.0574 - val_loss: 0.2151 - val_matthews_correlation: 0.1733\n",
      "\n",
      "Epoch 00005: val_matthews_correlation did not improve from 0.32013\n",
      "Epoch 6/100\n",
      "2323/2323 [==============================] - 21s 9ms/step - loss: 0.1946 - matthews_correlation: 0.0957 - val_loss: 0.1955 - val_matthews_correlation: 0.3690\n",
      "\n",
      "Epoch 00006: val_matthews_correlation improved from 0.32013 to 0.36901, saving model to weights.h5\n",
      "Epoch 7/100\n",
      "2323/2323 [==============================] - 21s 9ms/step - loss: 0.1728 - matthews_correlation: 0.1105 - val_loss: 0.1599 - val_matthews_correlation: 0.1069\n",
      "\n",
      "Epoch 00007: val_matthews_correlation did not improve from 0.36901\n",
      "Epoch 8/100\n",
      "2323/2323 [==============================] - 21s 9ms/step - loss: 0.1378 - matthews_correlation: 0.3387 - val_loss: 0.1248 - val_matthews_correlation: 0.4481\n",
      "\n",
      "Epoch 00008: val_matthews_correlation improved from 0.36901 to 0.44807, saving model to weights.h5\n",
      "Epoch 9/100\n",
      "2323/2323 [==============================] - 21s 9ms/step - loss: 0.1312 - matthews_correlation: 0.4345 - val_loss: 0.1254 - val_matthews_correlation: 0.5526\n",
      "\n",
      "Epoch 00009: val_matthews_correlation improved from 0.44807 to 0.55258, saving model to weights.h5\n",
      "Epoch 10/100\n",
      "2323/2323 [==============================] - 21s 9ms/step - loss: 0.1117 - matthews_correlation: 0.5425 - val_loss: 0.1102 - val_matthews_correlation: 0.5976\n",
      "\n",
      "Epoch 00010: val_matthews_correlation improved from 0.55258 to 0.59756, saving model to weights.h5\n",
      "Epoch 11/100\n",
      "2323/2323 [==============================] - 23s 10ms/step - loss: 0.1103 - matthews_correlation: 0.6168 - val_loss: 0.1124 - val_matthews_correlation: 0.5608\n",
      "\n",
      "Epoch 00011: val_matthews_correlation did not improve from 0.59756\n",
      "Epoch 12/100\n",
      "2323/2323 [==============================] - 25s 11ms/step - loss: 0.1030 - matthews_correlation: 0.5910 - val_loss: 0.1142 - val_matthews_correlation: 0.4762\n",
      "\n",
      "Epoch 00012: val_matthews_correlation did not improve from 0.59756\n",
      "Epoch 13/100\n",
      "2323/2323 [==============================] - 23s 10ms/step - loss: 0.0921 - matthews_correlation: 0.6330 - val_loss: 0.0914 - val_matthews_correlation: 0.7152\n",
      "\n",
      "Epoch 00013: val_matthews_correlation improved from 0.59756 to 0.71521, saving model to weights.h5\n",
      "Epoch 14/100\n",
      "2323/2323 [==============================] - 27s 11ms/step - loss: 0.0965 - matthews_correlation: 0.6326 - val_loss: 0.1061 - val_matthews_correlation: 0.5750\n",
      "\n",
      "Epoch 00014: val_matthews_correlation did not improve from 0.71521\n",
      "Epoch 15/100\n",
      "2323/2323 [==============================] - 24s 10ms/step - loss: 0.0885 - matthews_correlation: 0.7158 - val_loss: 0.1652 - val_matthews_correlation: 0.4035\n",
      "\n",
      "Epoch 00015: val_matthews_correlation did not improve from 0.71521\n",
      "Epoch 16/100\n",
      "2323/2323 [==============================] - 23s 10ms/step - loss: 0.1169 - matthews_correlation: 0.5780 - val_loss: 0.0957 - val_matthews_correlation: 0.7169\n",
      "\n",
      "Epoch 00016: val_matthews_correlation improved from 0.71521 to 0.71694, saving model to weights.h5\n",
      "Epoch 17/100\n",
      "2323/2323 [==============================] - 22s 9ms/step - loss: 0.1018 - matthews_correlation: 0.6351 - val_loss: 0.1043 - val_matthews_correlation: 0.5886\n",
      "\n",
      "Epoch 00017: val_matthews_correlation did not improve from 0.71694\n",
      "Epoch 18/100\n",
      "2323/2323 [==============================] - 22s 9ms/step - loss: 0.0858 - matthews_correlation: 0.6741 - val_loss: 0.0938 - val_matthews_correlation: 0.6707\n",
      "\n",
      "Epoch 00018: val_matthews_correlation did not improve from 0.71694\n",
      "Epoch 19/100\n",
      "2323/2323 [==============================] - 21s 9ms/step - loss: 0.0845 - matthews_correlation: 0.6882 - val_loss: 0.0894 - val_matthews_correlation: 0.7256\n",
      "\n",
      "Epoch 00019: val_matthews_correlation improved from 0.71694 to 0.72557, saving model to weights.h5\n",
      "Epoch 20/100\n",
      "2323/2323 [==============================] - 22s 9ms/step - loss: 0.0873 - matthews_correlation: 0.6527 - val_loss: 0.0947 - val_matthews_correlation: 0.7790\n",
      "\n",
      "Epoch 00020: val_matthews_correlation improved from 0.72557 to 0.77900, saving model to weights.h5\n",
      "Epoch 21/100\n",
      "2323/2323 [==============================] - 24s 10ms/step - loss: 0.0823 - matthews_correlation: 0.7127 - val_loss: 0.0970 - val_matthews_correlation: 0.6675\n",
      "\n",
      "Epoch 00021: val_matthews_correlation did not improve from 0.77900\n",
      "Epoch 22/100\n",
      "2323/2323 [==============================] - 24s 10ms/step - loss: 0.0837 - matthews_correlation: 0.6841 - val_loss: 0.1021 - val_matthews_correlation: 0.6117\n",
      "\n",
      "Epoch 00022: val_matthews_correlation did not improve from 0.77900\n",
      "Epoch 23/100\n",
      "2323/2323 [==============================] - 22s 9ms/step - loss: 0.0828 - matthews_correlation: 0.6700 - val_loss: 0.0966 - val_matthews_correlation: 0.6208\n",
      "\n",
      "Epoch 00023: val_matthews_correlation did not improve from 0.77900\n",
      "Epoch 24/100\n",
      "2323/2323 [==============================] - 21s 9ms/step - loss: 0.0767 - matthews_correlation: 0.7199 - val_loss: 0.1017 - val_matthews_correlation: 0.6614\n",
      "\n",
      "Epoch 00024: val_matthews_correlation did not improve from 0.77900\n",
      "Epoch 25/100\n",
      "2323/2323 [==============================] - 21s 9ms/step - loss: 0.0810 - matthews_correlation: 0.6929 - val_loss: 0.1075 - val_matthews_correlation: 0.6112\n",
      "\n",
      "Epoch 00025: val_matthews_correlation did not improve from 0.77900\n",
      "Epoch 26/100\n",
      "2323/2323 [==============================] - 21s 9ms/step - loss: 0.0753 - matthews_correlation: 0.7116 - val_loss: 0.1024 - val_matthews_correlation: 0.7747\n",
      "\n",
      "Epoch 00026: val_matthews_correlation did not improve from 0.77900\n",
      "Epoch 27/100\n",
      "2323/2323 [==============================] - 21s 9ms/step - loss: 0.0840 - matthews_correlation: 0.6853 - val_loss: 0.0929 - val_matthews_correlation: 0.6834\n",
      "\n",
      "Epoch 00027: val_matthews_correlation did not improve from 0.77900\n",
      "Epoch 28/100\n",
      "2323/2323 [==============================] - 21s 9ms/step - loss: 0.0831 - matthews_correlation: 0.7063 - val_loss: 0.0913 - val_matthews_correlation: 0.7648\n",
      "\n",
      "Epoch 00028: val_matthews_correlation did not improve from 0.77900\n",
      "Epoch 29/100\n",
      "2323/2323 [==============================] - 21s 9ms/step - loss: 0.0786 - matthews_correlation: 0.7437 - val_loss: 0.0860 - val_matthews_correlation: 0.7295\n",
      "\n",
      "Epoch 00029: val_matthews_correlation did not improve from 0.77900\n",
      "Epoch 30/100\n",
      "2323/2323 [==============================] - 21s 9ms/step - loss: 0.0696 - matthews_correlation: 0.7296 - val_loss: 0.0948 - val_matthews_correlation: 0.8169\n",
      "\n",
      "Epoch 00030: val_matthews_correlation improved from 0.77900 to 0.81694, saving model to weights.h5\n",
      "Epoch 31/100\n",
      "2323/2323 [==============================] - 21s 9ms/step - loss: 0.0707 - matthews_correlation: 0.7526 - val_loss: 0.0973 - val_matthews_correlation: 0.7187\n",
      "\n",
      "Epoch 00031: val_matthews_correlation did not improve from 0.81694\n",
      "Epoch 32/100\n",
      "2323/2323 [==============================] - 22s 9ms/step - loss: 0.0705 - matthews_correlation: 0.7685 - val_loss: 0.0950 - val_matthews_correlation: 0.7310\n",
      "\n",
      "Epoch 00032: val_matthews_correlation did not improve from 0.81694\n",
      "Epoch 33/100\n",
      "2323/2323 [==============================] - 21s 9ms/step - loss: 0.0719 - matthews_correlation: 0.7150 - val_loss: 0.1021 - val_matthews_correlation: 0.7188\n"
     ]
    },
    {
     "name": "stdout",
     "output_type": "stream",
     "text": [
      "\n",
      "Epoch 00033: val_matthews_correlation did not improve from 0.81694\n",
      "Epoch 34/100\n",
      "2323/2323 [==============================] - 20s 9ms/step - loss: 0.0777 - matthews_correlation: 0.6582 - val_loss: 0.0961 - val_matthews_correlation: 0.6938\n",
      "\n",
      "Epoch 00034: val_matthews_correlation did not improve from 0.81694\n",
      "Epoch 35/100\n",
      "2323/2323 [==============================] - 21s 9ms/step - loss: 0.0670 - matthews_correlation: 0.7396 - val_loss: 0.1218 - val_matthews_correlation: 0.6849\n",
      "\n",
      "Epoch 00035: val_matthews_correlation did not improve from 0.81694\n",
      "Epoch 36/100\n",
      "2323/2323 [==============================] - 21s 9ms/step - loss: 0.0744 - matthews_correlation: 0.7266 - val_loss: 0.1097 - val_matthews_correlation: 0.5903\n",
      "\n",
      "Epoch 00036: val_matthews_correlation did not improve from 0.81694\n",
      "Epoch 37/100\n",
      "2323/2323 [==============================] - 20s 9ms/step - loss: 0.0606 - matthews_correlation: 0.7371 - val_loss: 0.1089 - val_matthews_correlation: 0.7612\n",
      "\n",
      "Epoch 00037: val_matthews_correlation did not improve from 0.81694\n",
      "Epoch 38/100\n",
      "2323/2323 [==============================] - 21s 9ms/step - loss: 0.0665 - matthews_correlation: 0.7557 - val_loss: 0.1014 - val_matthews_correlation: 0.6682\n",
      "\n",
      "Epoch 00038: val_matthews_correlation did not improve from 0.81694\n",
      "Epoch 39/100\n",
      "2323/2323 [==============================] - 21s 9ms/step - loss: 0.0708 - matthews_correlation: 0.7573 - val_loss: 0.1060 - val_matthews_correlation: 0.6961\n",
      "\n",
      "Epoch 00039: val_matthews_correlation did not improve from 0.81694\n",
      "Epoch 40/100\n",
      "2323/2323 [==============================] - 20s 9ms/step - loss: 0.0655 - matthews_correlation: 0.7636 - val_loss: 0.1440 - val_matthews_correlation: 0.5745\n",
      "\n",
      "Epoch 00040: val_matthews_correlation did not improve from 0.81694\n",
      "Epoch 41/100\n",
      "2323/2323 [==============================] - 21s 9ms/step - loss: 0.0644 - matthews_correlation: 0.7813 - val_loss: 0.1280 - val_matthews_correlation: 0.6397\n",
      "\n",
      "Epoch 00041: val_matthews_correlation did not improve from 0.81694\n",
      "Epoch 42/100\n",
      "2323/2323 [==============================] - 21s 9ms/step - loss: 0.0633 - matthews_correlation: 0.7794 - val_loss: 0.1116 - val_matthews_correlation: 0.6371\n",
      "\n",
      "Epoch 00042: val_matthews_correlation did not improve from 0.81694\n",
      "Epoch 43/100\n",
      "2323/2323 [==============================] - 20s 9ms/step - loss: 0.0637 - matthews_correlation: 0.7779 - val_loss: 0.1018 - val_matthews_correlation: 0.7421\n",
      "\n",
      "Epoch 00043: val_matthews_correlation did not improve from 0.81694\n",
      "Epoch 44/100\n",
      "2323/2323 [==============================] - 21s 9ms/step - loss: 0.0554 - matthews_correlation: 0.8088 - val_loss: 0.1074 - val_matthews_correlation: 0.7443\n",
      "\n",
      "Epoch 00044: val_matthews_correlation did not improve from 0.81694\n",
      "Epoch 45/100\n",
      "2323/2323 [==============================] - 21s 9ms/step - loss: 0.0548 - matthews_correlation: 0.7965 - val_loss: 0.1216 - val_matthews_correlation: 0.7740\n",
      "\n",
      "Epoch 00045: val_matthews_correlation did not improve from 0.81694\n",
      "Epoch 46/100\n",
      "2323/2323 [==============================] - 21s 9ms/step - loss: 0.0727 - matthews_correlation: 0.7657 - val_loss: 0.1025 - val_matthews_correlation: 0.7194\n",
      "\n",
      "Epoch 00046: val_matthews_correlation did not improve from 0.81694\n",
      "Epoch 47/100\n",
      "2323/2323 [==============================] - 21s 9ms/step - loss: 0.0644 - matthews_correlation: 0.7895 - val_loss: 0.0976 - val_matthews_correlation: 0.7141\n",
      "\n",
      "Epoch 00047: val_matthews_correlation did not improve from 0.81694\n",
      "Epoch 48/100\n",
      "2323/2323 [==============================] - 21s 9ms/step - loss: 0.0647 - matthews_correlation: 0.7869 - val_loss: 0.1067 - val_matthews_correlation: 0.7648\n",
      "\n",
      "Epoch 00048: val_matthews_correlation did not improve from 0.81694\n",
      "Epoch 49/100\n",
      "2323/2323 [==============================] - 21s 9ms/step - loss: 0.0548 - matthews_correlation: 0.8338 - val_loss: 0.1358 - val_matthews_correlation: 0.7006\n",
      "\n",
      "Epoch 00049: val_matthews_correlation did not improve from 0.81694\n",
      "Epoch 50/100\n",
      "2323/2323 [==============================] - 21s 9ms/step - loss: 0.0538 - matthews_correlation: 0.8176 - val_loss: 0.1303 - val_matthews_correlation: 0.7025\n",
      "\n",
      "Epoch 00050: val_matthews_correlation did not improve from 0.81694\n",
      "Epoch 51/100\n",
      "2323/2323 [==============================] - 21s 9ms/step - loss: 0.0475 - matthews_correlation: 0.8218 - val_loss: 0.1263 - val_matthews_correlation: 0.7043\n",
      "\n",
      "Epoch 00051: val_matthews_correlation did not improve from 0.81694\n",
      "Epoch 52/100\n",
      "2323/2323 [==============================] - 21s 9ms/step - loss: 0.0562 - matthews_correlation: 0.8317 - val_loss: 0.1094 - val_matthews_correlation: 0.7428\n",
      "\n",
      "Epoch 00052: val_matthews_correlation did not improve from 0.81694\n",
      "Epoch 53/100\n",
      "2323/2323 [==============================] - 21s 9ms/step - loss: 0.0522 - matthews_correlation: 0.8085 - val_loss: 0.1400 - val_matthews_correlation: 0.7257\n",
      "\n",
      "Epoch 00053: val_matthews_correlation did not improve from 0.81694\n",
      "Epoch 54/100\n",
      "2323/2323 [==============================] - 23s 10ms/step - loss: 0.0540 - matthews_correlation: 0.8156 - val_loss: 0.1425 - val_matthews_correlation: 0.7354\n",
      "\n",
      "Epoch 00054: val_matthews_correlation did not improve from 0.81694\n",
      "Epoch 55/100\n",
      "2323/2323 [==============================] - 21s 9ms/step - loss: 0.0480 - matthews_correlation: 0.8456 - val_loss: 0.1855 - val_matthews_correlation: 0.5615\n",
      "\n",
      "Epoch 00055: val_matthews_correlation did not improve from 0.81694\n",
      "Epoch 56/100\n",
      "2323/2323 [==============================] - 22s 9ms/step - loss: 0.0563 - matthews_correlation: 0.8281 - val_loss: 0.1552 - val_matthews_correlation: 0.7005\n",
      "\n",
      "Epoch 00056: val_matthews_correlation did not improve from 0.81694\n",
      "Epoch 57/100\n",
      "2323/2323 [==============================] - 26s 11ms/step - loss: 0.0546 - matthews_correlation: 0.8166 - val_loss: 0.1422 - val_matthews_correlation: 0.7503\n",
      "\n",
      "Epoch 00057: val_matthews_correlation did not improve from 0.81694\n",
      "Epoch 58/100\n",
      "2323/2323 [==============================] - 26s 11ms/step - loss: 0.0606 - matthews_correlation: 0.8021 - val_loss: 0.1288 - val_matthews_correlation: 0.7246\n",
      "\n",
      "Epoch 00058: val_matthews_correlation did not improve from 0.81694\n",
      "Epoch 59/100\n",
      "2323/2323 [==============================] - 27s 12ms/step - loss: 0.0563 - matthews_correlation: 0.8127 - val_loss: 0.1491 - val_matthews_correlation: 0.7030\n",
      "\n",
      "Epoch 00059: val_matthews_correlation did not improve from 0.81694\n",
      "Epoch 60/100\n",
      "2323/2323 [==============================] - 24s 11ms/step - loss: 0.0452 - matthews_correlation: 0.8204 - val_loss: 0.1449 - val_matthews_correlation: 0.7165\n",
      "\n",
      "Epoch 00060: val_matthews_correlation did not improve from 0.81694\n",
      "Epoch 61/100\n",
      "2323/2323 [==============================] - 24s 10ms/step - loss: 0.0482 - matthews_correlation: 0.8617 - val_loss: 0.1451 - val_matthews_correlation: 0.7821\n",
      "\n",
      "Epoch 00061: val_matthews_correlation did not improve from 0.81694\n",
      "Epoch 62/100\n",
      "2323/2323 [==============================] - 28s 12ms/step - loss: 0.0358 - matthews_correlation: 0.8975 - val_loss: 0.1899 - val_matthews_correlation: 0.7768\n",
      "\n",
      "Epoch 00062: val_matthews_correlation did not improve from 0.81694\n",
      "Epoch 63/100\n",
      "2323/2323 [==============================] - 26s 11ms/step - loss: 0.0393 - matthews_correlation: 0.8343 - val_loss: 0.1545 - val_matthews_correlation: 0.7198\n",
      "\n",
      "Epoch 00063: val_matthews_correlation did not improve from 0.81694\n",
      "Epoch 64/100\n",
      "2323/2323 [==============================] - 25s 11ms/step - loss: 0.0385 - matthews_correlation: 0.8703 - val_loss: 0.1653 - val_matthews_correlation: 0.7365\n",
      "\n",
      "Epoch 00064: val_matthews_correlation did not improve from 0.81694\n",
      "Epoch 65/100\n",
      "2323/2323 [==============================] - 25s 11ms/step - loss: 0.0382 - matthews_correlation: 0.8769 - val_loss: 0.1852 - val_matthews_correlation: 0.7427\n",
      "\n",
      "Epoch 00065: val_matthews_correlation did not improve from 0.81694\n",
      "Epoch 66/100\n",
      "2323/2323 [==============================] - 26s 11ms/step - loss: 0.0296 - matthews_correlation: 0.9109 - val_loss: 0.1870 - val_matthews_correlation: 0.6914\n",
      "\n",
      "Epoch 00066: val_matthews_correlation did not improve from 0.81694\n",
      "Epoch 67/100\n",
      "2323/2323 [==============================] - 28s 12ms/step - loss: 0.0284 - matthews_correlation: 0.8654 - val_loss: 0.1704 - val_matthews_correlation: 0.8113\n",
      "\n",
      "Epoch 00067: val_matthews_correlation did not improve from 0.81694\n",
      "Epoch 68/100\n"
     ]
    },
    {
     "name": "stdout",
     "output_type": "stream",
     "text": [
      "2323/2323 [==============================] - 33s 14ms/step - loss: 0.0376 - matthews_correlation: 0.8818 - val_loss: 0.1806 - val_matthews_correlation: 0.7866\n",
      "\n",
      "Epoch 00068: val_matthews_correlation did not improve from 0.81694\n",
      "Epoch 69/100\n",
      "2323/2323 [==============================] - 33s 14ms/step - loss: 0.0322 - matthews_correlation: 0.8776 - val_loss: 0.2059 - val_matthews_correlation: 0.6880\n",
      "\n",
      "Epoch 00069: val_matthews_correlation did not improve from 0.81694\n",
      "Epoch 70/100\n",
      "2323/2323 [==============================] - 25s 11ms/step - loss: 0.0541 - matthews_correlation: 0.8135 - val_loss: 0.1919 - val_matthews_correlation: 0.6687\n",
      "\n",
      "Epoch 00070: val_matthews_correlation did not improve from 0.81694\n",
      "Epoch 71/100\n",
      "2323/2323 [==============================] - 22s 9ms/step - loss: 0.0446 - matthews_correlation: 0.8185 - val_loss: 0.1697 - val_matthews_correlation: 0.6919\n",
      "\n",
      "Epoch 00071: val_matthews_correlation did not improve from 0.81694\n",
      "Epoch 72/100\n",
      "2323/2323 [==============================] - 22s 9ms/step - loss: 0.0381 - matthews_correlation: 0.8555 - val_loss: 0.1946 - val_matthews_correlation: 0.6738\n",
      "\n",
      "Epoch 00072: val_matthews_correlation did not improve from 0.81694\n",
      "Epoch 73/100\n",
      "2323/2323 [==============================] - 21s 9ms/step - loss: 0.0454 - matthews_correlation: 0.8269 - val_loss: 0.1677 - val_matthews_correlation: 0.7260\n",
      "\n",
      "Epoch 00073: val_matthews_correlation did not improve from 0.81694\n",
      "Epoch 74/100\n",
      "2323/2323 [==============================] - 21s 9ms/step - loss: 0.0495 - matthews_correlation: 0.8539 - val_loss: 0.1499 - val_matthews_correlation: 0.7063\n",
      "\n",
      "Epoch 00074: val_matthews_correlation did not improve from 0.81694\n",
      "Epoch 75/100\n",
      "2323/2323 [==============================] - 21s 9ms/step - loss: 0.0400 - matthews_correlation: 0.8822 - val_loss: 0.1635 - val_matthews_correlation: 0.7163\n",
      "\n",
      "Epoch 00075: val_matthews_correlation did not improve from 0.81694\n",
      "Epoch 76/100\n",
      "2323/2323 [==============================] - 21s 9ms/step - loss: 0.0283 - matthews_correlation: 0.8995 - val_loss: 0.2086 - val_matthews_correlation: 0.6479\n",
      "\n",
      "Epoch 00076: val_matthews_correlation did not improve from 0.81694\n",
      "Epoch 77/100\n",
      "2323/2323 [==============================] - 21s 9ms/step - loss: 0.0354 - matthews_correlation: 0.8565 - val_loss: 0.1795 - val_matthews_correlation: 0.7513\n",
      "\n",
      "Epoch 00077: val_matthews_correlation did not improve from 0.81694\n",
      "Epoch 78/100\n",
      "2323/2323 [==============================] - 21s 9ms/step - loss: 0.0324 - matthews_correlation: 0.8778 - val_loss: 0.1819 - val_matthews_correlation: 0.7145\n",
      "\n",
      "Epoch 00078: val_matthews_correlation did not improve from 0.81694\n",
      "Epoch 79/100\n",
      "2323/2323 [==============================] - 21s 9ms/step - loss: 0.0222 - matthews_correlation: 0.9143 - val_loss: 0.1849 - val_matthews_correlation: 0.7397\n",
      "\n",
      "Epoch 00079: val_matthews_correlation did not improve from 0.81694\n",
      "Epoch 80/100\n",
      "2323/2323 [==============================] - 21s 9ms/step - loss: 0.0181 - matthews_correlation: 0.9403 - val_loss: 0.3933 - val_matthews_correlation: 0.6545\n",
      "\n",
      "Epoch 00080: val_matthews_correlation did not improve from 0.81694\n",
      "Epoch 81/100\n",
      "2323/2323 [==============================] - 21s 9ms/step - loss: 0.1289 - matthews_correlation: 0.7509 - val_loss: 0.1493 - val_matthews_correlation: 0.6439\n",
      "\n",
      "Epoch 00081: val_matthews_correlation did not improve from 0.81694\n",
      "Epoch 82/100\n",
      "2323/2323 [==============================] - 21s 9ms/step - loss: 0.0484 - matthews_correlation: 0.8178 - val_loss: 0.1477 - val_matthews_correlation: 0.6537\n",
      "\n",
      "Epoch 00082: val_matthews_correlation did not improve from 0.81694\n",
      "Epoch 83/100\n",
      "2323/2323 [==============================] - 21s 9ms/step - loss: 0.0378 - matthews_correlation: 0.8929 - val_loss: 0.1663 - val_matthews_correlation: 0.6145\n",
      "\n",
      "Epoch 00083: val_matthews_correlation did not improve from 0.81694\n",
      "Epoch 84/100\n",
      "2323/2323 [==============================] - 21s 9ms/step - loss: 0.0329 - matthews_correlation: 0.8899 - val_loss: 0.1581 - val_matthews_correlation: 0.6737\n",
      "\n",
      "Epoch 00084: val_matthews_correlation did not improve from 0.81694\n",
      "Epoch 85/100\n",
      "2323/2323 [==============================] - 21s 9ms/step - loss: 0.0279 - matthews_correlation: 0.9030 - val_loss: 0.1552 - val_matthews_correlation: 0.6492\n",
      "\n",
      "Epoch 00085: val_matthews_correlation did not improve from 0.81694\n",
      "Epoch 86/100\n",
      "2323/2323 [==============================] - 21s 9ms/step - loss: 0.0256 - matthews_correlation: 0.9157 - val_loss: 0.1587 - val_matthews_correlation: 0.6760\n",
      "\n",
      "Epoch 00086: val_matthews_correlation did not improve from 0.81694\n",
      "Epoch 87/100\n",
      "2323/2323 [==============================] - 21s 9ms/step - loss: 0.0165 - matthews_correlation: 0.9581 - val_loss: 0.1965 - val_matthews_correlation: 0.7225\n",
      "\n",
      "Epoch 00087: val_matthews_correlation did not improve from 0.81694\n",
      "Epoch 88/100\n",
      "2323/2323 [==============================] - 22s 9ms/step - loss: 0.0182 - matthews_correlation: 0.9282 - val_loss: 0.1986 - val_matthews_correlation: 0.6642\n",
      "\n",
      "Epoch 00088: val_matthews_correlation did not improve from 0.81694\n",
      "Epoch 89/100\n",
      "2323/2323 [==============================] - 22s 9ms/step - loss: 0.0180 - matthews_correlation: 0.8938 - val_loss: 0.2091 - val_matthews_correlation: 0.6822\n",
      "\n",
      "Epoch 00089: val_matthews_correlation did not improve from 0.81694\n",
      "Epoch 90/100\n",
      "2323/2323 [==============================] - 21s 9ms/step - loss: 0.0268 - matthews_correlation: 0.8829 - val_loss: 0.1924 - val_matthews_correlation: 0.6942\n",
      "\n",
      "Epoch 00090: val_matthews_correlation did not improve from 0.81694\n",
      "Epoch 91/100\n",
      "2323/2323 [==============================] - 21s 9ms/step - loss: 0.0293 - matthews_correlation: 0.8958 - val_loss: 0.1630 - val_matthews_correlation: 0.6362\n",
      "\n",
      "Epoch 00091: val_matthews_correlation did not improve from 0.81694\n",
      "Epoch 92/100\n",
      "2323/2323 [==============================] - 21s 9ms/step - loss: 0.0268 - matthews_correlation: 0.9256 - val_loss: 0.2015 - val_matthews_correlation: 0.5879\n",
      "\n",
      "Epoch 00092: val_matthews_correlation did not improve from 0.81694\n",
      "Epoch 93/100\n",
      "2323/2323 [==============================] - 21s 9ms/step - loss: 0.0217 - matthews_correlation: 0.9222 - val_loss: 0.2208 - val_matthews_correlation: 0.6722\n",
      "\n",
      "Epoch 00093: val_matthews_correlation did not improve from 0.81694\n",
      "Epoch 94/100\n",
      "2323/2323 [==============================] - 22s 9ms/step - loss: 0.0217 - matthews_correlation: 0.9209 - val_loss: 0.2176 - val_matthews_correlation: 0.6321\n",
      "\n",
      "Epoch 00094: val_matthews_correlation did not improve from 0.81694\n",
      "Epoch 95/100\n",
      "2323/2323 [==============================] - 21s 9ms/step - loss: 0.0190 - matthews_correlation: 0.9404 - val_loss: 0.2319 - val_matthews_correlation: 0.6026\n",
      "\n",
      "Epoch 00095: val_matthews_correlation did not improve from 0.81694\n",
      "Epoch 96/100\n",
      "2323/2323 [==============================] - 22s 9ms/step - loss: 0.0175 - matthews_correlation: 0.9459 - val_loss: 0.2192 - val_matthews_correlation: 0.6379\n",
      "\n",
      "Epoch 00096: val_matthews_correlation did not improve from 0.81694\n",
      "Epoch 97/100\n",
      "2323/2323 [==============================] - 21s 9ms/step - loss: 0.0081 - matthews_correlation: 0.9684 - val_loss: 0.2497 - val_matthews_correlation: 0.7165\n",
      "\n",
      "Epoch 00097: val_matthews_correlation did not improve from 0.81694\n",
      "Epoch 98/100\n",
      "2323/2323 [==============================] - 21s 9ms/step - loss: 0.0066 - matthews_correlation: 0.9713 - val_loss: 0.2290 - val_matthews_correlation: 0.7296\n",
      "\n",
      "Epoch 00098: val_matthews_correlation did not improve from 0.81694\n",
      "Epoch 99/100\n",
      "2323/2323 [==============================] - 21s 9ms/step - loss: 0.0040 - matthews_correlation: 0.9930 - val_loss: 0.2575 - val_matthews_correlation: 0.6999\n",
      "\n",
      "Epoch 00099: val_matthews_correlation did not improve from 0.81694\n",
      "Epoch 100/100\n",
      "2323/2323 [==============================] - 20s 9ms/step - loss: 0.0025 - matthews_correlation: 0.9966 - val_loss: 0.2696 - val_matthews_correlation: 0.7188\n",
      "\n",
      "Epoch 00100: val_matthews_correlation did not improve from 0.81694\n"
     ]
    },
    {
     "data": {
      "text/plain": [
       "<keras.callbacks.History at 0x136cc18d0>"
      ]
     },
     "execution_count": 37,
     "metadata": {},
     "output_type": "execute_result"
    }
   ],
   "source": [
    "ckp = ModelCheckpoint('weights.h5', save_best_only=True, save_weights_only=True, verbose=1, monitor='val_matthews_correlation', mode='max')\n",
    "model.fit(X_train, y_train, batch_size=100, epochs=100, validation_data=[X_valid, y_valid], callbacks=[ckp])"
   ]
  },
  {
   "cell_type": "code",
   "execution_count": 38,
   "metadata": {
    "_uuid": "ae9bd3fa9d8c0781c0708846bb7f2a9f9e6cbd3c"
   },
   "outputs": [
    {
     "name": "stdout",
     "output_type": "stream",
     "text": [
      "CPU times: user 16.3 ms, sys: 63.7 ms, total: 80 ms\n",
      "Wall time: 131 ms\n"
     ]
    }
   ],
   "source": [
    "%%time\n",
    "# 25ms in Kernel\n",
    "meta_test = pd.read_csv('input/metadata_test.csv')"
   ]
  },
  {
   "cell_type": "code",
   "execution_count": 39,
   "metadata": {
    "_uuid": "3eb186d032f79c99ffba05dd1a7fabb77e13cec5"
   },
   "outputs": [
    {
     "data": {
      "text/html": [
       "<div>\n",
       "<style scoped>\n",
       "    .dataframe tbody tr th:only-of-type {\n",
       "        vertical-align: middle;\n",
       "    }\n",
       "\n",
       "    .dataframe tbody tr th {\n",
       "        vertical-align: top;\n",
       "    }\n",
       "\n",
       "    .dataframe thead th {\n",
       "        text-align: right;\n",
       "    }\n",
       "</style>\n",
       "<table border=\"1\" class=\"dataframe\">\n",
       "  <thead>\n",
       "    <tr style=\"text-align: right;\">\n",
       "      <th></th>\n",
       "      <th>id_measurement</th>\n",
       "      <th>phase</th>\n",
       "    </tr>\n",
       "    <tr>\n",
       "      <th>signal_id</th>\n",
       "      <th></th>\n",
       "      <th></th>\n",
       "    </tr>\n",
       "  </thead>\n",
       "  <tbody>\n",
       "    <tr>\n",
       "      <th>8712</th>\n",
       "      <td>2904</td>\n",
       "      <td>0</td>\n",
       "    </tr>\n",
       "    <tr>\n",
       "      <th>8713</th>\n",
       "      <td>2904</td>\n",
       "      <td>1</td>\n",
       "    </tr>\n",
       "    <tr>\n",
       "      <th>8714</th>\n",
       "      <td>2904</td>\n",
       "      <td>2</td>\n",
       "    </tr>\n",
       "    <tr>\n",
       "      <th>8715</th>\n",
       "      <td>2905</td>\n",
       "      <td>0</td>\n",
       "    </tr>\n",
       "    <tr>\n",
       "      <th>8716</th>\n",
       "      <td>2905</td>\n",
       "      <td>1</td>\n",
       "    </tr>\n",
       "  </tbody>\n",
       "</table>\n",
       "</div>"
      ],
      "text/plain": [
       "           id_measurement  phase\n",
       "signal_id                       \n",
       "8712                 2904      0\n",
       "8713                 2904      1\n",
       "8714                 2904      2\n",
       "8715                 2905      0\n",
       "8716                 2905      1"
      ]
     },
     "execution_count": 39,
     "metadata": {},
     "output_type": "execute_result"
    }
   ],
   "source": [
    "meta_test = meta_test.set_index(['signal_id'])\n",
    "meta_test.head()"
   ]
  },
  {
   "cell_type": "code",
   "execution_count": 40,
   "metadata": {
    "_uuid": "6f8e94387f625bff0a9a6289e1ee038908bc5856"
   },
   "outputs": [
    {
     "name": "stdout",
     "output_type": "stream",
     "text": [
      "8712 10 20337 2033 7 20337\n",
      "[[8712, 10745], [10745, 12778], [12778, 14811], [14811, 16844], [16844, 18877], [18877, 20910], [20910, 22943], [22943, 24976], [24976, 27009], [27009, 29042], [29042, 29049]]\n"
     ]
    },
    {
     "name": "stderr",
     "output_type": "stream",
     "text": [
      "100%|██████████| 2033/2033 [03:32<00:00,  9.70it/s]\n",
      "100%|██████████| 2033/2033 [03:46<00:00,  9.43it/s]\n",
      "100%|██████████| 2033/2033 [03:47<00:00,  8.38it/s]\n",
      "100%|██████████| 2033/2033 [03:41<00:00,  9.32it/s]\n",
      "100%|██████████| 2033/2033 [03:45<00:00,  9.13it/s]\n",
      "100%|██████████| 2033/2033 [03:31<00:00,  9.82it/s]\n",
      "100%|██████████| 2033/2033 [03:29<00:00,  9.77it/s]\n",
      "100%|██████████| 2033/2033 [03:29<00:00,  9.77it/s]\n",
      "100%|██████████| 2033/2033 [03:30<00:00,  9.77it/s]\n",
      "100%|██████████| 2033/2033 [03:29<00:00,  9.70it/s]\n",
      "100%|██████████| 7/7 [00:00<00:00,  7.98it/s]"
     ]
    },
    {
     "name": "stdout",
     "output_type": "stream",
     "text": [
      "CPU times: user 39min 24s, sys: 2min 8s, total: 41min 33s\n",
      "Wall time: 37min 22s\n"
     ]
    },
    {
     "name": "stderr",
     "output_type": "stream",
     "text": [
      "\n"
     ]
    }
   ],
   "source": [
    "%%time\n",
    "# About 10min in Kernel\n",
    "first_sig = meta_test.index[0]\n",
    "n_parts = 10\n",
    "max_line = len(meta_test)\n",
    "part_size = int(max_line / n_parts)\n",
    "last_part = max_line % n_parts\n",
    "print(first_sig, n_parts, max_line, part_size, last_part, n_parts * part_size + last_part)\n",
    "start_end = [[x, x+part_size] for x in range(first_sig, max_line + first_sig, part_size)]\n",
    "start_end = start_end[:-1] + [[start_end[-1][0], start_end[-1][0] + last_part]]\n",
    "print(start_end)\n",
    "X_test = []\n",
    "for start, end in start_end:\n",
    "    subset_test = pq.read_pandas('input/test.parquet', columns=[str(i) for i in range(start, end)]).to_pandas()\n",
    "    for i in tqdm(subset_test.columns):\n",
    "        id_measurement, phase = meta_test.loc[int(i)]\n",
    "        subset_test_col = subset_test[i]\n",
    "        subset_trans = transform_ts(subset_test_col)\n",
    "        X_test.append([i, id_measurement, phase, subset_trans])"
   ]
  },
  {
   "cell_type": "code",
   "execution_count": 41,
   "metadata": {
    "_uuid": "af9aa6b2b8f8a2beda1a02ff998e3072fcad8d06"
   },
   "outputs": [
    {
     "data": {
      "text/plain": [
       "(6779, 160, 39)"
      ]
     },
     "execution_count": 41,
     "metadata": {},
     "output_type": "execute_result"
    }
   ],
   "source": [
    "X_test_input = np.asarray([np.concatenate([X_test[i][3],X_test[i+1][3], X_test[i+2][3]], axis=1) for i in range(0,len(X_test), 3)])\n",
    "X_test_input.shape"
   ]
  },
  {
   "cell_type": "code",
   "execution_count": 42,
   "metadata": {
    "_uuid": "cfd265d3e07c4cc1679d2c4d55fe7de631c813e7"
   },
   "outputs": [
    {
     "name": "stdout",
     "output_type": "stream",
     "text": [
      "20337\n"
     ]
    },
    {
     "data": {
      "text/html": [
       "<div>\n",
       "<style scoped>\n",
       "    .dataframe tbody tr th:only-of-type {\n",
       "        vertical-align: middle;\n",
       "    }\n",
       "\n",
       "    .dataframe tbody tr th {\n",
       "        vertical-align: top;\n",
       "    }\n",
       "\n",
       "    .dataframe thead th {\n",
       "        text-align: right;\n",
       "    }\n",
       "</style>\n",
       "<table border=\"1\" class=\"dataframe\">\n",
       "  <thead>\n",
       "    <tr style=\"text-align: right;\">\n",
       "      <th></th>\n",
       "      <th>signal_id</th>\n",
       "      <th>target</th>\n",
       "    </tr>\n",
       "  </thead>\n",
       "  <tbody>\n",
       "    <tr>\n",
       "      <th>0</th>\n",
       "      <td>8712</td>\n",
       "      <td>0</td>\n",
       "    </tr>\n",
       "    <tr>\n",
       "      <th>1</th>\n",
       "      <td>8713</td>\n",
       "      <td>0</td>\n",
       "    </tr>\n",
       "    <tr>\n",
       "      <th>2</th>\n",
       "      <td>8714</td>\n",
       "      <td>0</td>\n",
       "    </tr>\n",
       "    <tr>\n",
       "      <th>3</th>\n",
       "      <td>8715</td>\n",
       "      <td>0</td>\n",
       "    </tr>\n",
       "    <tr>\n",
       "      <th>4</th>\n",
       "      <td>8716</td>\n",
       "      <td>0</td>\n",
       "    </tr>\n",
       "  </tbody>\n",
       "</table>\n",
       "</div>"
      ],
      "text/plain": [
       "   signal_id  target\n",
       "0       8712       0\n",
       "1       8713       0\n",
       "2       8714       0\n",
       "3       8715       0\n",
       "4       8716       0"
      ]
     },
     "execution_count": 42,
     "metadata": {},
     "output_type": "execute_result"
    }
   ],
   "source": [
    "submission = pd.read_csv('input/sample_submission.csv')\n",
    "print(len(submission))\n",
    "submission.head()"
   ]
  },
  {
   "cell_type": "code",
   "execution_count": 57,
   "metadata": {
    "_uuid": "fd991d46e1206fcab2fa9a416c86e3846fb64be8"
   },
   "outputs": [],
   "source": [
    "model.load_weights('weights.h5')"
   ]
  },
  {
   "cell_type": "code",
   "execution_count": 58,
   "metadata": {
    "_uuid": "06c25c28b602e33cf50adda4fb10ae54d37ef5d8"
   },
   "outputs": [],
   "source": [
    "pred = model.predict(X_test_input, batch_size=300)"
   ]
  },
  {
   "cell_type": "code",
   "execution_count": 59,
   "metadata": {
    "_uuid": "64fbd5b95bf657dbe78afe0530ab1ded0fbc58c5"
   },
   "outputs": [],
   "source": [
    "pred_3 = []\n",
    "for pred_scalar in pred:\n",
    "    for i in range(3):\n",
    "        pred_3.append(int(pred_scalar > 0.4))"
   ]
  },
  {
   "cell_type": "code",
   "execution_count": 60,
   "metadata": {
    "_uuid": "b35723f85d494b4b6ec630dd7c79135a110a4062"
   },
   "outputs": [],
   "source": [
    "submission['target'] = pred_3"
   ]
  },
  {
   "cell_type": "code",
   "execution_count": 61,
   "metadata": {
    "_uuid": "d13de6368c44a5315b0073dce5bdadb445c25be9"
   },
   "outputs": [],
   "source": [
    "submission.to_csv('submission_26.csv', index=False)"
   ]
  },
  {
   "cell_type": "code",
   "execution_count": 62,
   "metadata": {
    "_uuid": "07c7b6dc14f666261fe2b823d1f0d0a5302ac348"
   },
   "outputs": [
    {
     "data": {
      "text/plain": [
       "5.263975155279503"
      ]
     },
     "execution_count": 62,
     "metadata": {},
     "output_type": "execute_result"
    }
   ],
   "source": [
    "rr = np.array(submission.target.tolist())\n",
    "100*(rr[rr==1].shape[0]/rr[rr == 0].shape[0])"
   ]
  },
  {
   "cell_type": "code",
   "execution_count": null,
   "metadata": {},
   "outputs": [],
   "source": []
  }
 ],
 "metadata": {
  "kernelspec": {
   "display_name": "Python 3",
   "language": "python",
   "name": "python3"
  },
  "language_info": {
   "codemirror_mode": {
    "name": "ipython",
    "version": 3
   },
   "file_extension": ".py",
   "mimetype": "text/x-python",
   "name": "python",
   "nbconvert_exporter": "python",
   "pygments_lexer": "ipython3",
   "version": "3.6.4"
  }
 },
 "nbformat": 4,
 "nbformat_minor": 1
}
