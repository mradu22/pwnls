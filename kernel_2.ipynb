{
 "cells": [
  {
   "cell_type": "markdown",
   "metadata": {
    "_uuid": "e154a47bf09b8770980486e87786317a1b3038e1"
   },
   "source": [
    "This notebook was made from scratch by me.  \n",
    "The idea is reducing the 800,000 long mesurements to some shorter vector that is more fitted to a LSTM.  \n",
    "This code below transform the 800.000 mesurements of the 3 diferent phases in a unique (80, 39) matrix.  \n",
    "The matthews ocrrelation and attention functions are not mine.  "
   ]
  },
  {
   "cell_type": "code",
   "execution_count": 1,
   "metadata": {
    "_cell_guid": "b1076dfc-b9ad-4769-8c92-a6c4dae69d19",
    "_uuid": "8f2839f25d086af736a60e9eeb907d3b93b6e0e5"
   },
   "outputs": [
    {
     "name": "stderr",
     "output_type": "stream",
     "text": [
      "Using TensorFlow backend.\n"
     ]
    },
    {
     "name": "stdout",
     "output_type": "stream",
     "text": [
      "['train.parquet', 'metadata_test.csv', 'sample_submission.csv', 'metadata_train.csv', 'test.parquet']\n"
     ]
    }
   ],
   "source": [
    "import pandas as pd\n",
    "import pyarrow.parquet as pq\n",
    "import os\n",
    "import numpy as np\n",
    "from keras.layers import *\n",
    "from keras.models import Model\n",
    "from tqdm import tqdm\n",
    "from sklearn.model_selection import train_test_split\n",
    "from keras.callbacks import ModelCheckpoint\n",
    "from keras import backend as K\n",
    "print(os.listdir(\"input/\"))"
   ]
  },
  {
   "cell_type": "code",
   "execution_count": 2,
   "metadata": {
    "_uuid": "c3340ee96becb5ca8f075d9c44b7df383ddba5ee"
   },
   "outputs": [],
   "source": [
    "def matthews_correlation(y_true, y_pred):\n",
    "    '''Calculates the Matthews correlation coefficient measure for quality\n",
    "    of binary classification problems.\n",
    "    '''\n",
    "    y_pred_pos = K.round(K.clip(y_pred, 0, 1))\n",
    "    y_pred_neg = 1 - y_pred_pos\n",
    "\n",
    "    y_pos = K.round(K.clip(y_true, 0, 1))\n",
    "    y_neg = 1 - y_pos\n",
    "\n",
    "    tp = K.sum(y_pos * y_pred_pos)\n",
    "    tn = K.sum(y_neg * y_pred_neg)\n",
    "\n",
    "    fp = K.sum(y_neg * y_pred_pos)\n",
    "    fn = K.sum(y_pos * y_pred_neg)\n",
    "\n",
    "    numerator = (tp * tn - fp * fn)\n",
    "    denominator = K.sqrt((tp + fp) * (tp + fn) * (tn + fp) * (tn + fn))\n",
    "\n",
    "    return numerator / (denominator + K.epsilon())"
   ]
  },
  {
   "cell_type": "code",
   "execution_count": 3,
   "metadata": {
    "_uuid": "eda7ea366117d1ce8e5fce69e5bba333821d8b48"
   },
   "outputs": [],
   "source": [
    "# https://www.kaggle.com/suicaokhoailang/lstm-attention-baseline-0-652-lb\n",
    "\n",
    "class Attention(Layer):\n",
    "    def __init__(self, step_dim,\n",
    "                 W_regularizer=None, b_regularizer=None,\n",
    "                 W_constraint=None, b_constraint=None,\n",
    "                 bias=True, **kwargs):\n",
    "        self.supports_masking = True\n",
    "        self.init = initializers.get('glorot_uniform')\n",
    "\n",
    "        self.W_regularizer = regularizers.get(W_regularizer)\n",
    "        self.b_regularizer = regularizers.get(b_regularizer)\n",
    "\n",
    "        self.W_constraint = constraints.get(W_constraint)\n",
    "        self.b_constraint = constraints.get(b_constraint)\n",
    "\n",
    "        self.bias = bias\n",
    "        self.step_dim = step_dim\n",
    "        self.features_dim = 0\n",
    "        super(Attention, self).__init__(**kwargs)\n",
    "\n",
    "    def build(self, input_shape):\n",
    "        assert len(input_shape) == 3\n",
    "\n",
    "        self.W = self.add_weight((input_shape[-1],),\n",
    "                                 initializer=self.init,\n",
    "                                 name='{}_W'.format(self.name),\n",
    "                                 regularizer=self.W_regularizer,\n",
    "                                 constraint=self.W_constraint)\n",
    "        self.features_dim = input_shape[-1]\n",
    "\n",
    "        if self.bias:\n",
    "            self.b = self.add_weight((input_shape[1],),\n",
    "                                     initializer='zero',\n",
    "                                     name='{}_b'.format(self.name),\n",
    "                                     regularizer=self.b_regularizer,\n",
    "                                     constraint=self.b_constraint)\n",
    "        else:\n",
    "            self.b = None\n",
    "\n",
    "        self.built = True\n",
    "\n",
    "    def compute_mask(self, input, input_mask=None):\n",
    "        return None\n",
    "\n",
    "    def call(self, x, mask=None):\n",
    "        features_dim = self.features_dim\n",
    "        step_dim = self.step_dim\n",
    "\n",
    "        eij = K.reshape(K.dot(K.reshape(x, (-1, features_dim)),\n",
    "                        K.reshape(self.W, (features_dim, 1))), (-1, step_dim))\n",
    "\n",
    "        if self.bias:\n",
    "            eij += self.b\n",
    "\n",
    "        eij = K.tanh(eij)\n",
    "\n",
    "        a = K.exp(eij)\n",
    "\n",
    "        if mask is not None:\n",
    "            a *= K.cast(mask, K.floatx())\n",
    "\n",
    "        a /= K.cast(K.sum(a, axis=1, keepdims=True) + K.epsilon(), K.floatx())\n",
    "\n",
    "        a = K.expand_dims(a)\n",
    "        weighted_input = x * a\n",
    "        return K.sum(weighted_input, axis=1)\n",
    "\n",
    "    def compute_output_shape(self, input_shape):\n",
    "        return input_shape[0],  self.features_dim"
   ]
  },
  {
   "cell_type": "code",
   "execution_count": 4,
   "metadata": {
    "_cell_guid": "79c7e3d0-c299-4dcb-8224-4455121ee9b0",
    "_uuid": "d629ff2d2480ee46fbb7e2d37f6b5fab8052498a"
   },
   "outputs": [
    {
     "data": {
      "text/html": [
       "<div>\n",
       "<style scoped>\n",
       "    .dataframe tbody tr th:only-of-type {\n",
       "        vertical-align: middle;\n",
       "    }\n",
       "\n",
       "    .dataframe tbody tr th {\n",
       "        vertical-align: top;\n",
       "    }\n",
       "\n",
       "    .dataframe thead th {\n",
       "        text-align: right;\n",
       "    }\n",
       "</style>\n",
       "<table border=\"1\" class=\"dataframe\">\n",
       "  <thead>\n",
       "    <tr style=\"text-align: right;\">\n",
       "      <th></th>\n",
       "      <th></th>\n",
       "      <th>signal_id</th>\n",
       "      <th>target</th>\n",
       "    </tr>\n",
       "    <tr>\n",
       "      <th>id_measurement</th>\n",
       "      <th>phase</th>\n",
       "      <th></th>\n",
       "      <th></th>\n",
       "    </tr>\n",
       "  </thead>\n",
       "  <tbody>\n",
       "    <tr>\n",
       "      <th rowspan=\"3\" valign=\"top\">0</th>\n",
       "      <th>0</th>\n",
       "      <td>0</td>\n",
       "      <td>0</td>\n",
       "    </tr>\n",
       "    <tr>\n",
       "      <th>1</th>\n",
       "      <td>1</td>\n",
       "      <td>0</td>\n",
       "    </tr>\n",
       "    <tr>\n",
       "      <th>2</th>\n",
       "      <td>2</td>\n",
       "      <td>0</td>\n",
       "    </tr>\n",
       "    <tr>\n",
       "      <th rowspan=\"2\" valign=\"top\">1</th>\n",
       "      <th>0</th>\n",
       "      <td>3</td>\n",
       "      <td>1</td>\n",
       "    </tr>\n",
       "    <tr>\n",
       "      <th>1</th>\n",
       "      <td>4</td>\n",
       "      <td>1</td>\n",
       "    </tr>\n",
       "  </tbody>\n",
       "</table>\n",
       "</div>"
      ],
      "text/plain": [
       "                      signal_id  target\n",
       "id_measurement phase                   \n",
       "0              0              0       0\n",
       "               1              1       0\n",
       "               2              2       0\n",
       "1              0              3       1\n",
       "               1              4       1"
      ]
     },
     "execution_count": 4,
     "metadata": {},
     "output_type": "execute_result"
    }
   ],
   "source": [
    "df_train = pd.read_csv('input/metadata_train.csv')\n",
    "df_train = df_train.set_index(['id_measurement', 'phase'])\n",
    "df_train.head()"
   ]
  },
  {
   "cell_type": "code",
   "execution_count": 5,
   "metadata": {
    "_uuid": "26df6c7fbfecd537404866faec13d1238ae3ebc6"
   },
   "outputs": [],
   "source": [
    "max_num = 127\n",
    "min_num = -128"
   ]
  },
  {
   "cell_type": "code",
   "execution_count": 6,
   "metadata": {
    "_uuid": "7b0717b14bcfcba1f48d33c8161ae51c778687af"
   },
   "outputs": [],
   "source": [
    "def min_max_transf(ts, min_data, max_data, range_needed=(-1,1)):\n",
    "    if min_data < 0:\n",
    "        ts_std = (ts + abs(min_data)) / (max_data + abs(min_data))\n",
    "    else:\n",
    "        ts_std = (ts - min_data) / (max_data - min_data)\n",
    "    if range_needed[0] < 0:    \n",
    "        return ts_std * (range_needed[1] + abs(range_needed[0])) + range_needed[0]\n",
    "    else:\n",
    "        return ts_std * (range_needed[1] - range_needed[0]) + range_needed[0]"
   ]
  },
  {
   "cell_type": "code",
   "execution_count": 7,
   "metadata": {
    "_uuid": "c6137bbbe75c3a1509a5f98e08805dbbd492aa37"
   },
   "outputs": [],
   "source": [
    "def transform_ts(ts, n_dim=800, min_max=(-1,1)):\n",
    "    ts_std = min_max_transf(ts, min_data=min_num, max_data=max_num)\n",
    "    sample_size = 800000\n",
    "    bucket_size = int(sample_size / n_dim)\n",
    "    new_ts = []\n",
    "    for i in range(0, sample_size, bucket_size):\n",
    "        ts_range = ts_std[i:i + bucket_size]\n",
    "        mean = ts_range.mean()\n",
    "        std = ts_range.std()\n",
    "        std_top = mean + std\n",
    "        std_bot = mean - std\n",
    "        percentil_calc = np.percentile(ts_range, [0, 1, 25, 50, 75, 99, 100])\n",
    "        max_range = percentil_calc[-1] - percentil_calc[0]\n",
    "        covar = std / mean\n",
    "        asymmetry = mean - percentil_calc[4]\n",
    "        new_ts.append(np.concatenate([np.asarray([mean, std_top, std_bot, max_range, covar, asymmetry]),percentil_calc]))\n",
    "    return np.asarray(new_ts)"
   ]
  },
  {
   "cell_type": "code",
   "execution_count": 8,
   "metadata": {
    "_uuid": "7460e718a605803f1d9e4fbec61750a0deb02a47"
   },
   "outputs": [],
   "source": [
    "def prep_data(start, end):\n",
    "    #praq_train = pq.read_pandas('../input/train.parquet').to_pandas()\n",
    "    praq_train = pq.read_pandas('input/train.parquet', columns=[str(i) for i in range(start, end)]).to_pandas()\n",
    "    X = []\n",
    "    y = []\n",
    "    #for id_measurement in tqdm(df_train.index.levels[0].unique()):\n",
    "    for id_measurement in df_train.index.levels[0].unique()[int(start/3):int(end/3)]:\n",
    "        X_signal = []\n",
    "        for phase in [0,1,2]:\n",
    "            signal_id, target = df_train.loc[id_measurement].loc[phase]\n",
    "            if phase == 0:\n",
    "                y.append(target)\n",
    "            X_signal.append(transform_ts(praq_train[str(signal_id)]))\n",
    "        X_signal = np.concatenate(X_signal, axis=1)\n",
    "        X.append(X_signal)\n",
    "    X = np.asarray(X)\n",
    "    y = np.asarray(y)\n",
    "    return X, y"
   ]
  },
  {
   "cell_type": "code",
   "execution_count": null,
   "metadata": {
    "_uuid": "52dc826ab9ee1dd56c9fb29bd5c1b2d26b5928bf"
   },
   "outputs": [
    {
     "name": "stderr",
     "output_type": "stream",
     "text": [
      "/home/adi/.local/lib/python3.6/site-packages/ipykernel_launcher.py:14: RuntimeWarning: divide by zero encountered in double_scalars\n",
      "  \n"
     ]
    }
   ],
   "source": [
    "X = []\n",
    "y = []\n",
    "def load_all():\n",
    "    total_size = len(df_train)\n",
    "    for ini, end in [(0, int(total_size/2)), (int(total_size/2), total_size)]:\n",
    "        X_temp, y_temp = prep_data(ini, end)\n",
    "        X.append(X_temp)\n",
    "        y.append(y_temp)\n",
    "load_all()\n",
    "X = np.concatenate(X)\n",
    "y = np.concatenate(y)"
   ]
  },
  {
   "cell_type": "code",
   "execution_count": null,
   "metadata": {
    "_uuid": "51ad0e25b00536de6170168499923d82ae1d735f"
   },
   "outputs": [],
   "source": [
    "print(X.shape, y.shape)"
   ]
  },
  {
   "cell_type": "code",
   "execution_count": null,
   "metadata": {},
   "outputs": [],
   "source": [
    "X.shape"
   ]
  },
  {
   "cell_type": "code",
   "execution_count": null,
   "metadata": {
    "_uuid": "dccd48fbd469c955284abd86776e8435dc706bd6"
   },
   "outputs": [],
   "source": [
    "X_train, X_valid, y_train, y_valid = train_test_split(X, y, test_size=0.2)"
   ]
  },
  {
   "cell_type": "code",
   "execution_count": null,
   "metadata": {},
   "outputs": [],
   "source": [
    "K.clear_session()"
   ]
  },
  {
   "cell_type": "code",
   "execution_count": null,
   "metadata": {
    "_uuid": "289bc7d1ab8048a60025801b457f8df1d848acbc"
   },
   "outputs": [],
   "source": [
    "def model_lstm(input_shape):\n",
    "    inp = Input(shape=(input_shape[1], input_shape[2],))\n",
    "    x = Bidirectional(CuDNNLSTM(128, return_sequences=True))(inp)\n",
    "    x = Bidirectional(CuDNNLSTM(64, return_sequences=True))(x)\n",
    "    x = Attention(input_shape[1])(x)\n",
    "    x = Dense(64, activation=\"relu\")(x)\n",
    "    x = Dense(1, activation=\"sigmoid\")(x)\n",
    "    model = Model(inputs=inp, outputs=x)\n",
    "    model.compile(loss='binary_crossentropy', optimizer='adam', metrics=[matthews_correlation])\n",
    "    \n",
    "    return model"
   ]
  },
  {
   "cell_type": "code",
   "execution_count": 79,
   "metadata": {
    "_uuid": "59621793c58cd4771823cb6cedc6dd959473f53d"
   },
   "outputs": [
    {
     "name": "stdout",
     "output_type": "stream",
     "text": [
      "['loss', 'matthews_correlation']\n",
      "_________________________________________________________________\n",
      "Layer (type)                 Output Shape              Param #   \n",
      "=================================================================\n",
      "input_1 (InputLayer)         (None, 800, 39)           0         \n",
      "_________________________________________________________________\n",
      "bidirectional_1 (Bidirection (None, 800, 256)          172032    \n",
      "_________________________________________________________________\n",
      "bidirectional_2 (Bidirection (None, 800, 128)          164352    \n",
      "_________________________________________________________________\n",
      "attention_1 (Attention)      (None, 128)               928       \n",
      "_________________________________________________________________\n",
      "dense_1 (Dense)              (None, 64)                8256      \n",
      "_________________________________________________________________\n",
      "dense_2 (Dense)              (None, 1)                 65        \n",
      "=================================================================\n",
      "Total params: 345,633\n",
      "Trainable params: 345,633\n",
      "Non-trainable params: 0\n",
      "_________________________________________________________________\n"
     ]
    }
   ],
   "source": [
    "model = model_lstm(X_train.shape)\n",
    "print(model.metrics_names)\n",
    "model.summary()"
   ]
  },
  {
   "cell_type": "code",
   "execution_count": 80,
   "metadata": {
    "_uuid": "8d6f4ca319c383b1b4f671a37c5a324136e7a466",
    "scrolled": false
   },
   "outputs": [
    {
     "name": "stdout",
     "output_type": "stream",
     "text": [
      "Train on 2323 samples, validate on 581 samples\n",
      "Epoch 1/100\n",
      "2323/2323 [==============================] - 108s 46ms/step - loss: 0.3427 - matthews_correlation: 0.0000e+00 - val_loss: 0.2327 - val_matthews_correlation: 0.0000e+00\n",
      "\n",
      "Epoch 00001: val_matthews_correlation improved from -inf to 0.00000, saving model to weights.h5\n",
      "Epoch 2/100\n",
      "2323/2323 [==============================] - 102s 44ms/step - loss: 0.2378 - matthews_correlation: 0.0000e+00 - val_loss: 0.2123 - val_matthews_correlation: 0.0000e+00\n",
      "\n",
      "Epoch 00002: val_matthews_correlation did not improve from 0.00000\n",
      "Epoch 3/100\n",
      "2323/2323 [==============================] - 102s 44ms/step - loss: 0.2343 - matthews_correlation: 0.0000e+00 - val_loss: 0.2069 - val_matthews_correlation: 0.0000e+00\n",
      "\n",
      "Epoch 00003: val_matthews_correlation did not improve from 0.00000\n",
      "Epoch 4/100\n",
      "2323/2323 [==============================] - 102s 44ms/step - loss: 0.2152 - matthews_correlation: 0.0212 - val_loss: 0.1934 - val_matthews_correlation: 0.0600\n",
      "\n",
      "Epoch 00004: val_matthews_correlation improved from 0.00000 to 0.06001, saving model to weights.h5\n",
      "Epoch 5/100\n",
      "2323/2323 [==============================] - 104s 45ms/step - loss: 0.2114 - matthews_correlation: 0.0856 - val_loss: 0.1914 - val_matthews_correlation: 0.0000e+00\n",
      "\n",
      "Epoch 00005: val_matthews_correlation did not improve from 0.06001\n",
      "Epoch 6/100\n",
      "2323/2323 [==============================] - 103s 45ms/step - loss: 0.1883 - matthews_correlation: 0.2591 - val_loss: 0.1989 - val_matthews_correlation: 0.3337\n",
      "\n",
      "Epoch 00006: val_matthews_correlation improved from 0.06001 to 0.33367, saving model to weights.h5\n",
      "Epoch 7/100\n",
      "2323/2323 [==============================] - 104s 45ms/step - loss: 0.1683 - matthews_correlation: 0.2952 - val_loss: 0.1471 - val_matthews_correlation: 0.3249\n",
      "\n",
      "Epoch 00007: val_matthews_correlation did not improve from 0.33367\n",
      "Epoch 8/100\n",
      "2323/2323 [==============================] - 104s 45ms/step - loss: 0.1371 - matthews_correlation: 0.4949 - val_loss: 0.1232 - val_matthews_correlation: 0.4855\n",
      "\n",
      "Epoch 00008: val_matthews_correlation improved from 0.33367 to 0.48554, saving model to weights.h5\n",
      "Epoch 9/100\n",
      "2323/2323 [==============================] - 105s 45ms/step - loss: 0.1178 - matthews_correlation: 0.6193 - val_loss: 0.1201 - val_matthews_correlation: 0.5728\n",
      "\n",
      "Epoch 00009: val_matthews_correlation improved from 0.48554 to 0.57275, saving model to weights.h5\n",
      "Epoch 10/100\n",
      "2323/2323 [==============================] - 106s 46ms/step - loss: 0.1092 - matthews_correlation: 0.6219 - val_loss: 0.6198 - val_matthews_correlation: 0.2143\n",
      "\n",
      "Epoch 00010: val_matthews_correlation did not improve from 0.57275\n",
      "Epoch 11/100\n",
      "2323/2323 [==============================] - 107s 46ms/step - loss: 0.1393 - matthews_correlation: 0.5062 - val_loss: 0.1194 - val_matthews_correlation: 0.5795\n",
      "\n",
      "Epoch 00011: val_matthews_correlation improved from 0.57275 to 0.57948, saving model to weights.h5\n",
      "Epoch 12/100\n",
      "2323/2323 [==============================] - 107s 46ms/step - loss: 0.1031 - matthews_correlation: 0.6571 - val_loss: 0.1165 - val_matthews_correlation: 0.6575\n",
      "\n",
      "Epoch 00012: val_matthews_correlation improved from 0.57948 to 0.65751, saving model to weights.h5\n",
      "Epoch 13/100\n",
      "2323/2323 [==============================] - 108s 47ms/step - loss: 0.1060 - matthews_correlation: 0.6414 - val_loss: 0.1279 - val_matthews_correlation: 0.5728\n",
      "\n",
      "Epoch 00013: val_matthews_correlation did not improve from 0.65751\n",
      "Epoch 14/100\n",
      "2323/2323 [==============================] - 108s 46ms/step - loss: 0.1054 - matthews_correlation: 0.6051 - val_loss: 0.1248 - val_matthews_correlation: 0.6260\n",
      "\n",
      "Epoch 00014: val_matthews_correlation did not improve from 0.65751\n",
      "Epoch 15/100\n",
      "2323/2323 [==============================] - 108s 46ms/step - loss: 0.1063 - matthews_correlation: 0.6718 - val_loss: 0.1163 - val_matthews_correlation: 0.6246\n",
      "\n",
      "Epoch 00015: val_matthews_correlation did not improve from 0.65751\n",
      "Epoch 16/100\n",
      "2323/2323 [==============================] - 108s 46ms/step - loss: 0.0901 - matthews_correlation: 0.7074 - val_loss: 0.1295 - val_matthews_correlation: 0.6154\n",
      "\n",
      "Epoch 00016: val_matthews_correlation did not improve from 0.65751\n",
      "Epoch 17/100\n",
      "2323/2323 [==============================] - 108s 47ms/step - loss: 0.1053 - matthews_correlation: 0.6940 - val_loss: 0.1118 - val_matthews_correlation: 0.5802\n",
      "\n",
      "Epoch 00017: val_matthews_correlation did not improve from 0.65751\n",
      "Epoch 18/100\n",
      "2323/2323 [==============================] - 108s 46ms/step - loss: 0.1038 - matthews_correlation: 0.6353 - val_loss: 0.1160 - val_matthews_correlation: 0.5429\n",
      "\n",
      "Epoch 00018: val_matthews_correlation did not improve from 0.65751\n",
      "Epoch 19/100\n",
      "2323/2323 [==============================] - 107s 46ms/step - loss: 0.0889 - matthews_correlation: 0.7229 - val_loss: 0.1114 - val_matthews_correlation: 0.6815\n",
      "\n",
      "Epoch 00019: val_matthews_correlation improved from 0.65751 to 0.68146, saving model to weights.h5\n",
      "Epoch 20/100\n",
      "2323/2323 [==============================] - 108s 47ms/step - loss: 0.0879 - matthews_correlation: 0.7117 - val_loss: 0.1049 - val_matthews_correlation: 0.7176\n",
      "\n",
      "Epoch 00020: val_matthews_correlation improved from 0.68146 to 0.71764, saving model to weights.h5\n",
      "Epoch 21/100\n",
      "2323/2323 [==============================] - 109s 47ms/step - loss: 0.0841 - matthews_correlation: 0.6986 - val_loss: 0.1067 - val_matthews_correlation: 0.6338\n",
      "\n",
      "Epoch 00021: val_matthews_correlation did not improve from 0.71764\n",
      "Epoch 22/100\n",
      "2323/2323 [==============================] - 109s 47ms/step - loss: 0.0839 - matthews_correlation: 0.7266 - val_loss: 0.1122 - val_matthews_correlation: 0.6779\n",
      "\n",
      "Epoch 00022: val_matthews_correlation did not improve from 0.71764\n",
      "Epoch 23/100\n",
      "2323/2323 [==============================] - 108s 47ms/step - loss: 0.0805 - matthews_correlation: 0.7480 - val_loss: 0.1037 - val_matthews_correlation: 0.6920\n",
      "\n",
      "Epoch 00023: val_matthews_correlation did not improve from 0.71764\n",
      "Epoch 24/100\n",
      "2323/2323 [==============================] - 108s 47ms/step - loss: 0.0827 - matthews_correlation: 0.7150 - val_loss: 0.1018 - val_matthews_correlation: 0.6684\n",
      "\n",
      "Epoch 00024: val_matthews_correlation did not improve from 0.71764\n",
      "Epoch 25/100\n",
      "2323/2323 [==============================] - 109s 47ms/step - loss: 0.0905 - matthews_correlation: 0.6440 - val_loss: 0.0990 - val_matthews_correlation: 0.6742\n",
      "\n",
      "Epoch 00025: val_matthews_correlation did not improve from 0.71764\n",
      "Epoch 26/100\n",
      "2323/2323 [==============================] - 108s 47ms/step - loss: 0.1023 - matthews_correlation: 0.6835 - val_loss: 0.1495 - val_matthews_correlation: 0.5679\n",
      "\n",
      "Epoch 00026: val_matthews_correlation did not improve from 0.71764\n",
      "Epoch 27/100\n",
      "2323/2323 [==============================] - 110s 47ms/step - loss: 0.0872 - matthews_correlation: 0.7059 - val_loss: 0.1009 - val_matthews_correlation: 0.6793\n",
      "\n",
      "Epoch 00027: val_matthews_correlation did not improve from 0.71764\n",
      "Epoch 28/100\n",
      "2323/2323 [==============================] - 108s 47ms/step - loss: 0.0800 - matthews_correlation: 0.7408 - val_loss: 0.1035 - val_matthews_correlation: 0.7150\n",
      "\n",
      "Epoch 00028: val_matthews_correlation did not improve from 0.71764\n",
      "Epoch 29/100\n",
      "2323/2323 [==============================] - 108s 47ms/step - loss: 0.0770 - matthews_correlation: 0.7286 - val_loss: 0.1009 - val_matthews_correlation: 0.6971\n",
      "\n",
      "Epoch 00029: val_matthews_correlation did not improve from 0.71764\n",
      "Epoch 30/100\n",
      "2323/2323 [==============================] - 108s 47ms/step - loss: 0.0756 - matthews_correlation: 0.7563 - val_loss: 0.1313 - val_matthews_correlation: 0.6373\n",
      "\n",
      "Epoch 00030: val_matthews_correlation did not improve from 0.71764\n",
      "Epoch 31/100\n",
      "2323/2323 [==============================] - 109s 47ms/step - loss: 0.0930 - matthews_correlation: 0.7116 - val_loss: 0.0958 - val_matthews_correlation: 0.7140\n",
      "\n",
      "Epoch 00031: val_matthews_correlation did not improve from 0.71764\n",
      "Epoch 32/100\n",
      "2323/2323 [==============================] - 109s 47ms/step - loss: 0.0720 - matthews_correlation: 0.7312 - val_loss: 0.0982 - val_matthews_correlation: 0.6783\n",
      "\n",
      "Epoch 00032: val_matthews_correlation did not improve from 0.71764\n",
      "Epoch 33/100\n",
      "2323/2323 [==============================] - 109s 47ms/step - loss: 0.0707 - matthews_correlation: 0.7744 - val_loss: 0.0995 - val_matthews_correlation: 0.7272\n"
     ]
    },
    {
     "name": "stdout",
     "output_type": "stream",
     "text": [
      "\n",
      "Epoch 00033: val_matthews_correlation improved from 0.71764 to 0.72719, saving model to weights.h5\n",
      "Epoch 34/100\n",
      "2323/2323 [==============================] - 110s 47ms/step - loss: 0.0663 - matthews_correlation: 0.7921 - val_loss: 0.1018 - val_matthews_correlation: 0.6508\n",
      "\n",
      "Epoch 00034: val_matthews_correlation did not improve from 0.72719\n",
      "Epoch 35/100\n",
      "2323/2323 [==============================] - 110s 47ms/step - loss: 0.0682 - matthews_correlation: 0.8011 - val_loss: 0.1022 - val_matthews_correlation: 0.7598\n",
      "\n",
      "Epoch 00035: val_matthews_correlation improved from 0.72719 to 0.75983, saving model to weights.h5\n",
      "Epoch 36/100\n",
      "2323/2323 [==============================] - 109s 47ms/step - loss: 0.0715 - matthews_correlation: 0.7955 - val_loss: 0.1014 - val_matthews_correlation: 0.7101\n",
      "\n",
      "Epoch 00036: val_matthews_correlation did not improve from 0.75983\n",
      "Epoch 37/100\n",
      "2323/2323 [==============================] - 110s 48ms/step - loss: 0.0656 - matthews_correlation: 0.8149 - val_loss: 0.1041 - val_matthews_correlation: 0.7291\n",
      "\n",
      "Epoch 00037: val_matthews_correlation did not improve from 0.75983\n",
      "Epoch 38/100\n",
      "2323/2323 [==============================] - 111s 48ms/step - loss: 0.0646 - matthews_correlation: 0.7811 - val_loss: 0.0989 - val_matthews_correlation: 0.7717\n",
      "\n",
      "Epoch 00038: val_matthews_correlation improved from 0.75983 to 0.77169, saving model to weights.h5\n",
      "Epoch 39/100\n",
      "2323/2323 [==============================] - 111s 48ms/step - loss: 0.0677 - matthews_correlation: 0.7523 - val_loss: 0.1108 - val_matthews_correlation: 0.7455\n",
      "\n",
      "Epoch 00039: val_matthews_correlation did not improve from 0.77169\n",
      "Epoch 40/100\n",
      "2323/2323 [==============================] - 111s 48ms/step - loss: 0.0751 - matthews_correlation: 0.7357 - val_loss: 0.0968 - val_matthews_correlation: 0.6800\n",
      "\n",
      "Epoch 00040: val_matthews_correlation did not improve from 0.77169\n",
      "Epoch 41/100\n",
      "2323/2323 [==============================] - 111s 48ms/step - loss: 0.0744 - matthews_correlation: 0.7789 - val_loss: 0.1107 - val_matthews_correlation: 0.6463\n",
      "\n",
      "Epoch 00041: val_matthews_correlation did not improve from 0.77169\n",
      "Epoch 42/100\n",
      "2323/2323 [==============================] - 110s 47ms/step - loss: 0.0756 - matthews_correlation: 0.7347 - val_loss: 0.1039 - val_matthews_correlation: 0.7061\n",
      "\n",
      "Epoch 00042: val_matthews_correlation did not improve from 0.77169\n",
      "Epoch 43/100\n",
      "2323/2323 [==============================] - 108s 47ms/step - loss: 0.0700 - matthews_correlation: 0.7511 - val_loss: 0.1079 - val_matthews_correlation: 0.7212\n",
      "\n",
      "Epoch 00043: val_matthews_correlation did not improve from 0.77169\n",
      "Epoch 44/100\n",
      "2323/2323 [==============================] - 108s 47ms/step - loss: 0.0682 - matthews_correlation: 0.7983 - val_loss: 0.1076 - val_matthews_correlation: 0.5161\n",
      "\n",
      "Epoch 00044: val_matthews_correlation did not improve from 0.77169\n",
      "Epoch 45/100\n",
      "2323/2323 [==============================] - 108s 47ms/step - loss: 0.0691 - matthews_correlation: 0.7560 - val_loss: 0.1047 - val_matthews_correlation: 0.6894\n",
      "\n",
      "Epoch 00045: val_matthews_correlation did not improve from 0.77169\n",
      "Epoch 46/100\n",
      "2323/2323 [==============================] - 108s 46ms/step - loss: 0.0691 - matthews_correlation: 0.7687 - val_loss: 0.1037 - val_matthews_correlation: 0.6718\n",
      "\n",
      "Epoch 00046: val_matthews_correlation did not improve from 0.77169\n",
      "Epoch 47/100\n",
      "2323/2323 [==============================] - 108s 46ms/step - loss: 0.0639 - matthews_correlation: 0.7845 - val_loss: 0.1098 - val_matthews_correlation: 0.6052\n",
      "\n",
      "Epoch 00047: val_matthews_correlation did not improve from 0.77169\n",
      "Epoch 48/100\n",
      "2323/2323 [==============================] - 108s 47ms/step - loss: 0.0817 - matthews_correlation: 0.7472 - val_loss: 0.1063 - val_matthews_correlation: 0.6534\n",
      "\n",
      "Epoch 00048: val_matthews_correlation did not improve from 0.77169\n",
      "Epoch 49/100\n",
      "2323/2323 [==============================] - 108s 46ms/step - loss: 0.0698 - matthews_correlation: 0.8098 - val_loss: 0.1158 - val_matthews_correlation: 0.6105\n",
      "\n",
      "Epoch 00049: val_matthews_correlation did not improve from 0.77169\n",
      "Epoch 50/100\n",
      "2323/2323 [==============================] - 109s 47ms/step - loss: 0.0623 - matthews_correlation: 0.7768 - val_loss: 0.1052 - val_matthews_correlation: 0.6136\n",
      "\n",
      "Epoch 00050: val_matthews_correlation did not improve from 0.77169\n",
      "Epoch 51/100\n",
      "2323/2323 [==============================] - 108s 46ms/step - loss: 0.0629 - matthews_correlation: 0.8055 - val_loss: 0.1109 - val_matthews_correlation: 0.6924\n",
      "\n",
      "Epoch 00051: val_matthews_correlation did not improve from 0.77169\n",
      "Epoch 52/100\n",
      "2323/2323 [==============================] - 108s 46ms/step - loss: 0.0614 - matthews_correlation: 0.8075 - val_loss: 0.1079 - val_matthews_correlation: 0.6284\n",
      "\n",
      "Epoch 00052: val_matthews_correlation did not improve from 0.77169\n",
      "Epoch 53/100\n",
      "2323/2323 [==============================] - 109s 47ms/step - loss: 0.0589 - matthews_correlation: 0.8180 - val_loss: 0.1074 - val_matthews_correlation: 0.7170\n",
      "\n",
      "Epoch 00053: val_matthews_correlation did not improve from 0.77169\n",
      "Epoch 54/100\n",
      "2323/2323 [==============================] - 120s 52ms/step - loss: 0.0587 - matthews_correlation: 0.7911 - val_loss: 0.1076 - val_matthews_correlation: 0.6947\n",
      "\n",
      "Epoch 00054: val_matthews_correlation did not improve from 0.77169\n",
      "Epoch 55/100\n",
      "2323/2323 [==============================] - 111s 48ms/step - loss: 0.0554 - matthews_correlation: 0.8129 - val_loss: 0.1096 - val_matthews_correlation: 0.6041\n",
      "\n",
      "Epoch 00055: val_matthews_correlation did not improve from 0.77169\n",
      "Epoch 56/100\n",
      "2323/2323 [==============================] - 111s 48ms/step - loss: 0.0831 - matthews_correlation: 0.7470 - val_loss: 0.1067 - val_matthews_correlation: 0.7099\n",
      "\n",
      "Epoch 00056: val_matthews_correlation did not improve from 0.77169\n",
      "Epoch 57/100\n",
      "2323/2323 [==============================] - 112s 48ms/step - loss: 0.0653 - matthews_correlation: 0.7664 - val_loss: 0.1115 - val_matthews_correlation: 0.6620\n",
      "\n",
      "Epoch 00057: val_matthews_correlation did not improve from 0.77169\n",
      "Epoch 58/100\n",
      "2323/2323 [==============================] - 111s 48ms/step - loss: 0.0597 - matthews_correlation: 0.7892 - val_loss: 0.1139 - val_matthews_correlation: 0.7156\n",
      "\n",
      "Epoch 00058: val_matthews_correlation did not improve from 0.77169\n",
      "Epoch 59/100\n",
      "2323/2323 [==============================] - 112s 48ms/step - loss: 0.0593 - matthews_correlation: 0.7895 - val_loss: 0.0957 - val_matthews_correlation: 0.7002\n",
      "\n",
      "Epoch 00059: val_matthews_correlation did not improve from 0.77169\n",
      "Epoch 60/100\n",
      "2323/2323 [==============================] - 115s 49ms/step - loss: 0.0560 - matthews_correlation: 0.8374 - val_loss: 0.1310 - val_matthews_correlation: 0.6133\n",
      "\n",
      "Epoch 00060: val_matthews_correlation did not improve from 0.77169\n",
      "Epoch 61/100\n",
      "2323/2323 [==============================] - 113s 49ms/step - loss: 0.0633 - matthews_correlation: 0.7787 - val_loss: 0.1035 - val_matthews_correlation: 0.6934\n",
      "\n",
      "Epoch 00061: val_matthews_correlation did not improve from 0.77169\n",
      "Epoch 62/100\n",
      "2323/2323 [==============================] - 108s 47ms/step - loss: 0.0517 - matthews_correlation: 0.8534 - val_loss: 0.1130 - val_matthews_correlation: 0.7448\n",
      "\n",
      "Epoch 00062: val_matthews_correlation did not improve from 0.77169\n",
      "Epoch 63/100\n",
      "2323/2323 [==============================] - 107s 46ms/step - loss: 0.0548 - matthews_correlation: 0.8412 - val_loss: 0.1141 - val_matthews_correlation: 0.6325\n",
      "\n",
      "Epoch 00063: val_matthews_correlation did not improve from 0.77169\n",
      "Epoch 64/100\n",
      "2323/2323 [==============================] - 107s 46ms/step - loss: 0.0587 - matthews_correlation: 0.7820 - val_loss: 0.0955 - val_matthews_correlation: 0.7072\n",
      "\n",
      "Epoch 00064: val_matthews_correlation did not improve from 0.77169\n",
      "Epoch 65/100\n",
      "2323/2323 [==============================] - 106s 46ms/step - loss: 0.0562 - matthews_correlation: 0.8124 - val_loss: 0.1189 - val_matthews_correlation: 0.5327\n",
      "\n",
      "Epoch 00065: val_matthews_correlation did not improve from 0.77169\n",
      "Epoch 66/100\n",
      "2323/2323 [==============================] - 105s 45ms/step - loss: 0.0545 - matthews_correlation: 0.8501 - val_loss: 0.1203 - val_matthews_correlation: 0.6514\n",
      "\n",
      "Epoch 00066: val_matthews_correlation did not improve from 0.77169\n",
      "Epoch 67/100\n",
      "2323/2323 [==============================] - 105s 45ms/step - loss: 0.0596 - matthews_correlation: 0.7743 - val_loss: 0.1257 - val_matthews_correlation: 0.6095\n",
      "\n",
      "Epoch 00067: val_matthews_correlation did not improve from 0.77169\n",
      "Epoch 68/100\n",
      "2323/2323 [==============================] - 105s 45ms/step - loss: 0.0615 - matthews_correlation: 0.8142 - val_loss: 0.1197 - val_matthews_correlation: 0.6892\n",
      "\n",
      "Epoch 00068: val_matthews_correlation did not improve from 0.77169\n",
      "Epoch 69/100\n",
      "2323/2323 [==============================] - 105s 45ms/step - loss: 0.0512 - matthews_correlation: 0.8467 - val_loss: 0.1227 - val_matthews_correlation: 0.6251\n",
      "\n",
      "Epoch 00069: val_matthews_correlation did not improve from 0.77169\n",
      "Epoch 70/100\n",
      "2323/2323 [==============================] - 104s 45ms/step - loss: 0.0478 - matthews_correlation: 0.8411 - val_loss: 0.1308 - val_matthews_correlation: 0.6665\n",
      "\n",
      "Epoch 00070: val_matthews_correlation did not improve from 0.77169\n",
      "Epoch 71/100\n",
      "2323/2323 [==============================] - 105s 45ms/step - loss: 0.0594 - matthews_correlation: 0.7529 - val_loss: 0.1053 - val_matthews_correlation: 0.6715\n",
      "\n",
      "Epoch 00071: val_matthews_correlation did not improve from 0.77169\n",
      "Epoch 72/100\n",
      "2323/2323 [==============================] - 104s 45ms/step - loss: 0.0506 - matthews_correlation: 0.8318 - val_loss: 0.1103 - val_matthews_correlation: 0.7448\n",
      "\n",
      "Epoch 00072: val_matthews_correlation did not improve from 0.77169\n",
      "Epoch 73/100\n",
      "2323/2323 [==============================] - 103s 44ms/step - loss: 0.0453 - matthews_correlation: 0.8367 - val_loss: 0.1101 - val_matthews_correlation: 0.4567\n",
      "\n",
      "Epoch 00073: val_matthews_correlation did not improve from 0.77169\n",
      "Epoch 74/100\n",
      "2323/2323 [==============================] - 103s 45ms/step - loss: 0.0429 - matthews_correlation: 0.8588 - val_loss: 0.1227 - val_matthews_correlation: 0.5283\n",
      "\n",
      "Epoch 00074: val_matthews_correlation did not improve from 0.77169\n",
      "Epoch 75/100\n",
      "2323/2323 [==============================] - 102s 44ms/step - loss: 0.0427 - matthews_correlation: 0.8423 - val_loss: 0.1349 - val_matthews_correlation: 0.6340\n",
      "\n",
      "Epoch 00075: val_matthews_correlation did not improve from 0.77169\n",
      "Epoch 76/100\n",
      "2323/2323 [==============================] - 102s 44ms/step - loss: 0.0499 - matthews_correlation: 0.8425 - val_loss: 0.1052 - val_matthews_correlation: 0.6772\n",
      "\n",
      "Epoch 00076: val_matthews_correlation did not improve from 0.77169\n",
      "Epoch 77/100\n",
      "2323/2323 [==============================] - 103s 44ms/step - loss: 0.0788 - matthews_correlation: 0.7931 - val_loss: 0.1129 - val_matthews_correlation: 0.7355\n",
      "\n",
      "Epoch 00077: val_matthews_correlation did not improve from 0.77169\n",
      "Epoch 78/100\n",
      "2323/2323 [==============================] - 102s 44ms/step - loss: 0.0628 - matthews_correlation: 0.8239 - val_loss: 0.1135 - val_matthews_correlation: 0.7697\n",
      "\n",
      "Epoch 00078: val_matthews_correlation did not improve from 0.77169\n",
      "Epoch 79/100\n",
      "2323/2323 [==============================] - 102s 44ms/step - loss: 0.0590 - matthews_correlation: 0.8005 - val_loss: 0.1067 - val_matthews_correlation: 0.6394\n",
      "\n",
      "Epoch 00079: val_matthews_correlation did not improve from 0.77169\n",
      "Epoch 80/100\n",
      "2323/2323 [==============================] - 103s 44ms/step - loss: 0.0535 - matthews_correlation: 0.8113 - val_loss: 0.0955 - val_matthews_correlation: 0.6783\n",
      "\n",
      "Epoch 00080: val_matthews_correlation did not improve from 0.77169\n",
      "Epoch 81/100\n",
      "2323/2323 [==============================] - 103s 44ms/step - loss: 0.0458 - matthews_correlation: 0.8821 - val_loss: 0.1036 - val_matthews_correlation: 0.6054\n",
      "\n",
      "Epoch 00081: val_matthews_correlation did not improve from 0.77169\n",
      "Epoch 82/100\n",
      "2323/2323 [==============================] - 103s 44ms/step - loss: 0.0412 - matthews_correlation: 0.8511 - val_loss: 0.1193 - val_matthews_correlation: 0.6743\n",
      "\n",
      "Epoch 00082: val_matthews_correlation did not improve from 0.77169\n",
      "Epoch 83/100\n",
      "2323/2323 [==============================] - 103s 44ms/step - loss: 0.0387 - matthews_correlation: 0.8595 - val_loss: 0.1284 - val_matthews_correlation: 0.6331\n",
      "\n",
      "Epoch 00083: val_matthews_correlation did not improve from 0.77169\n",
      "Epoch 84/100\n",
      "2323/2323 [==============================] - 102s 44ms/step - loss: 0.0495 - matthews_correlation: 0.8560 - val_loss: 0.1208 - val_matthews_correlation: 0.7307\n",
      "\n",
      "Epoch 00084: val_matthews_correlation did not improve from 0.77169\n",
      "Epoch 85/100\n",
      "2323/2323 [==============================] - 102s 44ms/step - loss: 0.0429 - matthews_correlation: 0.8406 - val_loss: 0.1272 - val_matthews_correlation: 0.7041\n",
      "\n",
      "Epoch 00085: val_matthews_correlation did not improve from 0.77169\n",
      "Epoch 86/100\n",
      "2323/2323 [==============================] - 102s 44ms/step - loss: 0.0428 - matthews_correlation: 0.8620 - val_loss: 0.1488 - val_matthews_correlation: 0.7061\n",
      "\n",
      "Epoch 00086: val_matthews_correlation did not improve from 0.77169\n",
      "Epoch 87/100\n",
      "2323/2323 [==============================] - 103s 44ms/step - loss: 0.0423 - matthews_correlation: 0.8332 - val_loss: 0.1412 - val_matthews_correlation: 0.6447\n",
      "\n",
      "Epoch 00087: val_matthews_correlation did not improve from 0.77169\n",
      "Epoch 88/100\n",
      "2323/2323 [==============================] - 103s 44ms/step - loss: 0.0488 - matthews_correlation: 0.7957 - val_loss: 0.1391 - val_matthews_correlation: 0.6216\n",
      "\n",
      "Epoch 00088: val_matthews_correlation did not improve from 0.77169\n",
      "Epoch 89/100\n",
      "2323/2323 [==============================] - 102s 44ms/step - loss: 0.0410 - matthews_correlation: 0.8423 - val_loss: 0.1187 - val_matthews_correlation: 0.6930\n",
      "\n",
      "Epoch 00089: val_matthews_correlation did not improve from 0.77169\n",
      "Epoch 90/100\n",
      "2323/2323 [==============================] - 103s 44ms/step - loss: 0.0428 - matthews_correlation: 0.8723 - val_loss: 0.1308 - val_matthews_correlation: 0.6533\n",
      "\n",
      "Epoch 00090: val_matthews_correlation did not improve from 0.77169\n",
      "Epoch 91/100\n",
      "2323/2323 [==============================] - 102s 44ms/step - loss: 0.0498 - matthews_correlation: 0.8049 - val_loss: 0.1317 - val_matthews_correlation: 0.5455\n",
      "\n",
      "Epoch 00091: val_matthews_correlation did not improve from 0.77169\n",
      "Epoch 92/100\n",
      "2323/2323 [==============================] - 102s 44ms/step - loss: 0.0580 - matthews_correlation: 0.7889 - val_loss: 0.1094 - val_matthews_correlation: 0.6218\n",
      "\n",
      "Epoch 00092: val_matthews_correlation did not improve from 0.77169\n",
      "Epoch 93/100\n",
      "2323/2323 [==============================] - 102s 44ms/step - loss: 0.0557 - matthews_correlation: 0.7998 - val_loss: 0.1434 - val_matthews_correlation: 0.6492\n",
      "\n",
      "Epoch 00093: val_matthews_correlation did not improve from 0.77169\n",
      "Epoch 94/100\n",
      "2323/2323 [==============================] - 102s 44ms/step - loss: 0.0560 - matthews_correlation: 0.8112 - val_loss: 0.1289 - val_matthews_correlation: 0.7463\n",
      "\n",
      "Epoch 00094: val_matthews_correlation did not improve from 0.77169\n",
      "Epoch 95/100\n",
      "2323/2323 [==============================] - 102s 44ms/step - loss: 0.0450 - matthews_correlation: 0.8393 - val_loss: 0.1238 - val_matthews_correlation: 0.6897\n",
      "\n",
      "Epoch 00095: val_matthews_correlation did not improve from 0.77169\n",
      "Epoch 96/100\n",
      "2323/2323 [==============================] - 103s 44ms/step - loss: 0.0517 - matthews_correlation: 0.8199 - val_loss: 0.1085 - val_matthews_correlation: 0.6465\n",
      "\n",
      "Epoch 00096: val_matthews_correlation did not improve from 0.77169\n",
      "Epoch 97/100\n",
      "2323/2323 [==============================] - 102s 44ms/step - loss: 0.0423 - matthews_correlation: 0.8015 - val_loss: 0.1529 - val_matthews_correlation: 0.6945\n",
      "\n",
      "Epoch 00097: val_matthews_correlation did not improve from 0.77169\n",
      "Epoch 98/100\n",
      "2323/2323 [==============================] - 101s 44ms/step - loss: 0.0446 - matthews_correlation: 0.8436 - val_loss: 0.1460 - val_matthews_correlation: 0.6512\n",
      "\n",
      "Epoch 00098: val_matthews_correlation did not improve from 0.77169\n",
      "Epoch 99/100\n",
      "2323/2323 [==============================] - 101s 44ms/step - loss: 0.0443 - matthews_correlation: 0.8855 - val_loss: 0.1441 - val_matthews_correlation: 0.6926\n",
      "\n",
      "Epoch 00099: val_matthews_correlation did not improve from 0.77169\n",
      "Epoch 100/100\n",
      "2323/2323 [==============================] - 102s 44ms/step - loss: 0.0362 - matthews_correlation: 0.8429 - val_loss: 0.1170 - val_matthews_correlation: 0.7144\n",
      "\n",
      "Epoch 00100: val_matthews_correlation did not improve from 0.77169\n"
     ]
    },
    {
     "data": {
      "text/plain": [
       "<keras.callbacks.History at 0x135148f28>"
      ]
     },
     "execution_count": 80,
     "metadata": {},
     "output_type": "execute_result"
    }
   ],
   "source": [
    "ckp = ModelCheckpoint('weights.h5', save_best_only=True, save_weights_only=True, verbose=1, monitor='val_matthews_correlation', mode='max')\n",
    "model.fit(X_train, y_train, batch_size=100, epochs=100, validation_data=[X_valid, y_valid], callbacks=[ckp])"
   ]
  },
  {
   "cell_type": "code",
   "execution_count": 83,
   "metadata": {
    "_uuid": "ae9bd3fa9d8c0781c0708846bb7f2a9f9e6cbd3c"
   },
   "outputs": [
    {
     "name": "stdout",
     "output_type": "stream",
     "text": [
      "CPU times: user 10.3 ms, sys: 28 ms, total: 38.3 ms\n",
      "Wall time: 56.7 ms\n"
     ]
    }
   ],
   "source": [
    "%%time\n",
    "# 25ms in Kernel\n",
    "meta_test = pd.read_csv('input/metadata_test.csv')"
   ]
  },
  {
   "cell_type": "code",
   "execution_count": 84,
   "metadata": {
    "_uuid": "3eb186d032f79c99ffba05dd1a7fabb77e13cec5"
   },
   "outputs": [
    {
     "data": {
      "text/html": [
       "<div>\n",
       "<style scoped>\n",
       "    .dataframe tbody tr th:only-of-type {\n",
       "        vertical-align: middle;\n",
       "    }\n",
       "\n",
       "    .dataframe tbody tr th {\n",
       "        vertical-align: top;\n",
       "    }\n",
       "\n",
       "    .dataframe thead th {\n",
       "        text-align: right;\n",
       "    }\n",
       "</style>\n",
       "<table border=\"1\" class=\"dataframe\">\n",
       "  <thead>\n",
       "    <tr style=\"text-align: right;\">\n",
       "      <th></th>\n",
       "      <th>id_measurement</th>\n",
       "      <th>phase</th>\n",
       "    </tr>\n",
       "    <tr>\n",
       "      <th>signal_id</th>\n",
       "      <th></th>\n",
       "      <th></th>\n",
       "    </tr>\n",
       "  </thead>\n",
       "  <tbody>\n",
       "    <tr>\n",
       "      <th>8712</th>\n",
       "      <td>2904</td>\n",
       "      <td>0</td>\n",
       "    </tr>\n",
       "    <tr>\n",
       "      <th>8713</th>\n",
       "      <td>2904</td>\n",
       "      <td>1</td>\n",
       "    </tr>\n",
       "    <tr>\n",
       "      <th>8714</th>\n",
       "      <td>2904</td>\n",
       "      <td>2</td>\n",
       "    </tr>\n",
       "    <tr>\n",
       "      <th>8715</th>\n",
       "      <td>2905</td>\n",
       "      <td>0</td>\n",
       "    </tr>\n",
       "    <tr>\n",
       "      <th>8716</th>\n",
       "      <td>2905</td>\n",
       "      <td>1</td>\n",
       "    </tr>\n",
       "  </tbody>\n",
       "</table>\n",
       "</div>"
      ],
      "text/plain": [
       "           id_measurement  phase\n",
       "signal_id                       \n",
       "8712                 2904      0\n",
       "8713                 2904      1\n",
       "8714                 2904      2\n",
       "8715                 2905      0\n",
       "8716                 2905      1"
      ]
     },
     "execution_count": 84,
     "metadata": {},
     "output_type": "execute_result"
    }
   ],
   "source": [
    "meta_test = meta_test.set_index(['signal_id'])\n",
    "meta_test.head()"
   ]
  },
  {
   "cell_type": "code",
   "execution_count": 85,
   "metadata": {
    "_uuid": "6f8e94387f625bff0a9a6289e1ee038908bc5856"
   },
   "outputs": [
    {
     "name": "stdout",
     "output_type": "stream",
     "text": [
      "8712 10 20337 2033 7 20337\n",
      "[[8712, 10745], [10745, 12778], [12778, 14811], [14811, 16844], [16844, 18877], [18877, 20910], [20910, 22943], [22943, 24976], [24976, 27009], [27009, 29042], [29042, 29049]]\n"
     ]
    },
    {
     "name": "stderr",
     "output_type": "stream",
     "text": [
      "100%|██████████| 2033/2033 [13:22<00:00,  2.47it/s]\n",
      "100%|██████████| 2033/2033 [13:06<00:00,  2.56it/s]\n",
      " 98%|█████████▊| 1994/2033 [12:58<00:15,  2.59it/s]/usr/local/opt/pyenv/versions/3.6.4/lib/python3.6/site-packages/ipykernel_launcher.py:14: RuntimeWarning: divide by zero encountered in double_scalars\n",
      "  \n",
      "100%|██████████| 2033/2033 [13:14<00:00,  1.91it/s]\n",
      "100%|██████████| 2033/2033 [15:10<00:00,  2.32it/s]\n",
      "100%|██████████| 2033/2033 [15:25<00:00,  2.20it/s]\n",
      "100%|██████████| 2033/2033 [16:32<00:00,  2.12it/s]\n",
      "100%|██████████| 2033/2033 [15:01<00:00,  2.36it/s]\n",
      "100%|██████████| 2033/2033 [14:45<00:00,  2.40it/s]\n",
      "100%|██████████| 2033/2033 [14:48<00:00,  2.04it/s]\n",
      "100%|██████████| 2033/2033 [14:58<00:00,  1.47it/s]\n",
      "100%|██████████| 7/7 [00:03<00:00,  1.86it/s]"
     ]
    },
    {
     "name": "stdout",
     "output_type": "stream",
     "text": [
      "CPU times: user 2h 27min 35s, sys: 3min 19s, total: 2h 30min 55s\n",
      "Wall time: 2h 28min 10s\n"
     ]
    },
    {
     "name": "stderr",
     "output_type": "stream",
     "text": [
      "\n"
     ]
    }
   ],
   "source": [
    "%%time\n",
    "# About 10min in Kernel\n",
    "first_sig = meta_test.index[0]\n",
    "n_parts = 10\n",
    "max_line = len(meta_test)\n",
    "part_size = int(max_line / n_parts)\n",
    "last_part = max_line % n_parts\n",
    "print(first_sig, n_parts, max_line, part_size, last_part, n_parts * part_size + last_part)\n",
    "start_end = [[x, x+part_size] for x in range(first_sig, max_line + first_sig, part_size)]\n",
    "start_end = start_end[:-1] + [[start_end[-1][0], start_end[-1][0] + last_part]]\n",
    "print(start_end)\n",
    "X_test = []\n",
    "for start, end in start_end:\n",
    "    subset_test = pq.read_pandas('input/test.parquet', columns=[str(i) for i in range(start, end)]).to_pandas()\n",
    "    for i in tqdm(subset_test.columns):\n",
    "        id_measurement, phase = meta_test.loc[int(i)]\n",
    "        subset_test_col = subset_test[i]\n",
    "        subset_trans = transform_ts(subset_test_col)\n",
    "        X_test.append([i, id_measurement, phase, subset_trans])"
   ]
  },
  {
   "cell_type": "code",
   "execution_count": 86,
   "metadata": {
    "_uuid": "af9aa6b2b8f8a2beda1a02ff998e3072fcad8d06"
   },
   "outputs": [
    {
     "data": {
      "text/plain": [
       "(6779, 800, 39)"
      ]
     },
     "execution_count": 86,
     "metadata": {},
     "output_type": "execute_result"
    }
   ],
   "source": [
    "X_test_input = np.asarray([np.concatenate([X_test[i][3],X_test[i+1][3], X_test[i+2][3]], axis=1) for i in range(0,len(X_test), 3)])\n",
    "X_test_input.shape"
   ]
  },
  {
   "cell_type": "code",
   "execution_count": 87,
   "metadata": {
    "_uuid": "cfd265d3e07c4cc1679d2c4d55fe7de631c813e7"
   },
   "outputs": [
    {
     "name": "stdout",
     "output_type": "stream",
     "text": [
      "20337\n"
     ]
    },
    {
     "data": {
      "text/html": [
       "<div>\n",
       "<style scoped>\n",
       "    .dataframe tbody tr th:only-of-type {\n",
       "        vertical-align: middle;\n",
       "    }\n",
       "\n",
       "    .dataframe tbody tr th {\n",
       "        vertical-align: top;\n",
       "    }\n",
       "\n",
       "    .dataframe thead th {\n",
       "        text-align: right;\n",
       "    }\n",
       "</style>\n",
       "<table border=\"1\" class=\"dataframe\">\n",
       "  <thead>\n",
       "    <tr style=\"text-align: right;\">\n",
       "      <th></th>\n",
       "      <th>signal_id</th>\n",
       "      <th>target</th>\n",
       "    </tr>\n",
       "  </thead>\n",
       "  <tbody>\n",
       "    <tr>\n",
       "      <th>0</th>\n",
       "      <td>8712</td>\n",
       "      <td>0</td>\n",
       "    </tr>\n",
       "    <tr>\n",
       "      <th>1</th>\n",
       "      <td>8713</td>\n",
       "      <td>0</td>\n",
       "    </tr>\n",
       "    <tr>\n",
       "      <th>2</th>\n",
       "      <td>8714</td>\n",
       "      <td>0</td>\n",
       "    </tr>\n",
       "    <tr>\n",
       "      <th>3</th>\n",
       "      <td>8715</td>\n",
       "      <td>0</td>\n",
       "    </tr>\n",
       "    <tr>\n",
       "      <th>4</th>\n",
       "      <td>8716</td>\n",
       "      <td>0</td>\n",
       "    </tr>\n",
       "  </tbody>\n",
       "</table>\n",
       "</div>"
      ],
      "text/plain": [
       "   signal_id  target\n",
       "0       8712       0\n",
       "1       8713       0\n",
       "2       8714       0\n",
       "3       8715       0\n",
       "4       8716       0"
      ]
     },
     "execution_count": 87,
     "metadata": {},
     "output_type": "execute_result"
    }
   ],
   "source": [
    "submission = pd.read_csv('input/sample_submission.csv')\n",
    "print(len(submission))\n",
    "submission.head()"
   ]
  },
  {
   "cell_type": "code",
   "execution_count": 88,
   "metadata": {
    "_uuid": "fd991d46e1206fcab2fa9a416c86e3846fb64be8"
   },
   "outputs": [],
   "source": [
    "model.load_weights('weights.h5')"
   ]
  },
  {
   "cell_type": "code",
   "execution_count": 89,
   "metadata": {
    "_uuid": "06c25c28b602e33cf50adda4fb10ae54d37ef5d8"
   },
   "outputs": [],
   "source": [
    "pred = model.predict(X_test_input, batch_size=300)"
   ]
  },
  {
   "cell_type": "code",
   "execution_count": 90,
   "metadata": {
    "_uuid": "64fbd5b95bf657dbe78afe0530ab1ded0fbc58c5"
   },
   "outputs": [],
   "source": [
    "pred_3 = []\n",
    "for pred_scalar in pred:\n",
    "    for i in range(3):\n",
    "        pred_3.append(int(pred_scalar > 0.4))"
   ]
  },
  {
   "cell_type": "code",
   "execution_count": 91,
   "metadata": {
    "_uuid": "b35723f85d494b4b6ec630dd7c79135a110a4062"
   },
   "outputs": [],
   "source": [
    "submission['target'] = pred_3"
   ]
  },
  {
   "cell_type": "code",
   "execution_count": 92,
   "metadata": {
    "_uuid": "d13de6368c44a5315b0073dce5bdadb445c25be9"
   },
   "outputs": [],
   "source": [
    "submission.to_csv('submission_27.csv', index=False)"
   ]
  },
  {
   "cell_type": "code",
   "execution_count": 93,
   "metadata": {
    "_uuid": "07c7b6dc14f666261fe2b823d1f0d0a5302ac348"
   },
   "outputs": [
    {
     "data": {
      "text/plain": [
       "3.606908146110347"
      ]
     },
     "execution_count": 93,
     "metadata": {},
     "output_type": "execute_result"
    }
   ],
   "source": [
    "rr = np.array(submission.target.tolist())\n",
    "100*(rr[rr==1].shape[0]/rr[rr == 0].shape[0])"
   ]
  },
  {
   "cell_type": "code",
   "execution_count": null,
   "metadata": {},
   "outputs": [],
   "source": []
  }
 ],
 "metadata": {
  "kernelspec": {
   "display_name": "Python 3",
   "language": "python",
   "name": "python3"
  },
  "language_info": {
   "codemirror_mode": {
    "name": "ipython",
    "version": 3
   },
   "file_extension": ".py",
   "mimetype": "text/x-python",
   "name": "python",
   "nbconvert_exporter": "python",
   "pygments_lexer": "ipython3",
   "version": "3.6.7"
  }
 },
 "nbformat": 4,
 "nbformat_minor": 1
}
